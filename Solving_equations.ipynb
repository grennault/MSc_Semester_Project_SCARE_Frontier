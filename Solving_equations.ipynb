{
 "cells": [
  {
   "attachments": {},
   "cell_type": "markdown",
   "id": "ea7ac085",
   "metadata": {},
   "source": [
    "## Solve filter equations in GF"
   ]
  },
  {
   "cell_type": "code",
   "execution_count": 1,
   "id": "70757aed",
   "metadata": {},
   "outputs": [
    {
     "name": "stdout",
     "output_type": "stream",
     "text": [
      "Finite Field in x of size 2^8\n"
     ]
    }
   ],
   "source": [
    "# AES Rijndael field GF(2**8)\n",
    "F.<a> = GF(2)[]\n",
    "K.<x> = GF(2**8, name='x', modulus=a^8 + a^4 + a^3 + a + 1)\n",
    "print(K)\n",
    "\n",
    "def bin_str_to_GF(binary):\n",
    "    tmp = 0\n",
    "    for j, k in enumerate(binary.rjust(8, '0')[::-1]):\n",
    "        if k == '1':\n",
    "            tmp += x**int(j)\n",
    "    return tmp\n",
    "\n",
    "def int_to_GF(integer):\n",
    "    tmp = 0\n",
    "    for j, k in enumerate(bin(integer)[2:].rjust(8, '0')[::-1]):\n",
    "        if k == '1':\n",
    "            tmp += x**int(j)\n",
    "    return K(tmp)\n",
    "\n",
    "def GF_to_bin(gf_elem):\n",
    "    return int(gf_elem.integer_representation())"
   ]
  },
  {
   "cell_type": "code",
   "execution_count": 2,
   "id": "09fe0877",
   "metadata": {},
   "outputs": [],
   "source": [
    "# Create HW table to calculate Hamming weight\n",
    "def calc_hamming_weight(n):\n",
    "    return bin(n).count(\"1\")\n",
    "\n",
    "HW = []\n",
    "for i in range(256):\n",
    "    HW += [calc_hamming_weight(i)]"
   ]
  },
  {
   "attachments": {},
   "cell_type": "markdown",
   "id": "43be3ae8",
   "metadata": {},
   "source": [
    "### Simplify the 10 infered relations \n",
    "\n",
    "The 10 infered raltions are from Caforio et al. paper [https://eprint.iacr.org/2014/816.pdf](https://eprint.iacr.org/2014/816.pdf) :\n",
    "\n",
    "![Infered relations](images/infered_relations.png)\n",
    "\n",
    "TYPO in the paper : \n",
    "\n",
    "**Relation 10 and 11 are wrong and should be swaped ! I.e. $255*a=x_9*c$ and $255*c=x_{10}*a$.**"
   ]
  },
  {
   "cell_type": "code",
   "execution_count": 3,
   "id": "b3ffa622",
   "metadata": {},
   "outputs": [
    {
     "name": "stdout",
     "output_type": "stream",
     "text": [
      "[\n",
      "[x_1_var == a_var*x_255_var/b_var, x_2_var == b_var*x_255_var/a_var, x_3_var == d_var*x_255_var/a_var, x_4_var == a_var*x_255_var/d_var, x_5_var == c_var*x_255_var/d_var, x_6_var == d_var*x_255_var/c_var, x_7_var == b_var*x_255_var/c_var, x_8_var == c_var*x_255_var/b_var, x_9_var == a_var*x_255_var/c_var, x_10_var == c_var*x_255_var/a_var]\n",
      "]\n",
      "[\n",
      "[x_1_var == r2*x_255_var/r3, x_2_var == r3*x_255_var/r2, x_3_var == r1*r3/x_255_var, x_4_var == x_255_var^3/(r1*r3), x_5_var == x_255_var^2/r1, x_6_var == r1, x_7_var == x_255_var^2/r2, x_8_var == r2, x_9_var == x_255_var^2/r3, x_10_var == r3]\n",
      "]\n"
     ]
    }
   ],
   "source": [
    "var(\"x_1_var x_2_var x_3_var x_4_var x_5_var x_6_var x_7_var x_8_var x_9_var x_10_var x_255_var a_var b_var c_var d_var\")\n",
    "\n",
    "print(solve([x_255_var*a_var == x_1_var*b_var,\n",
    "       x_255_var*b_var == x_2_var*a_var,\n",
    "       x_255_var*d_var == x_3_var*a_var,\n",
    "       x_255_var*a_var == x_4_var*d_var,\n",
    "       x_255_var*c_var == x_5_var*d_var,\n",
    "       x_255_var*d_var == x_6_var*c_var,\n",
    "       x_255_var*b_var == x_7_var*c_var,\n",
    "       x_255_var*c_var == x_8_var*b_var,\n",
    "       x_255_var*a_var == x_9_var*c_var,\n",
    "       x_255_var*c_var == x_10_var*a_var],\n",
    "       [x_1_var, x_2_var, x_3_var, x_4_var, x_5_var, x_6_var, x_7_var, x_8_var, x_9_var, x_10_var]))\n",
    "\n",
    "print(solve([x_1_var*x_2_var == x_255_var**2, x_3_var*x_4_var == x_255_var**2, x_5_var*x_6_var == x_255_var**2, x_7_var*x_8_var == x_255_var**2, x_9_var*x_10_var == x_255_var**2, \n",
    "       x_1_var*x_7_var*x_10_var == x_255_var**3, x_2_var*x_8_var*x_9_var == x_255_var**3,\n",
    "       x_1_var*x_3_var*x_5_var*x_7_var == x_255_var**4, x_2_var*x_4_var*x_6_var*x_8_var == x_255_var**4], [x_1_var, x_2_var, x_3_var, x_4_var, x_5_var, x_6_var, x_7_var, x_8_var, x_9_var, x_10_var]))\n"
   ]
  },
  {
   "attachments": {},
   "cell_type": "markdown",
   "id": "d4dd2d2d",
   "metadata": {},
   "source": [
    "### Solve the infered equations given the Hamming weight of state bytes after the S-box (i.e. $w_i = HW(x_i)$)"
   ]
  },
  {
   "cell_type": "code",
   "execution_count": 4,
   "id": "ed8394fe",
   "metadata": {
    "scrolled": true
   },
   "outputs": [],
   "source": [
    "import random\n",
    "import numpy as np\n",
    "\n",
    "w_i = [4, 3, 5, 5, 8, 8, 3, 4, 5, 5]  # List of Hamming weight of the x_i variables. We have 10 variables with Hamming weight x_0 = 4, x_1 = 3, x_2 = 5, x_3 = 5, x_4 = 8, x_5 = 8, x_6 = 3, x_7 = 4, x_8 = 5, x_9 = 5"
   ]
  },
  {
   "cell_type": "code",
   "execution_count": 5,
   "id": "82c41cbe",
   "metadata": {
    "scrolled": true
   },
   "outputs": [],
   "source": [
    "import itertools\n",
    "\n",
    "# Constant variable equal to 0xFF\n",
    "x_255 = int_to_GF(0xFF)\n",
    "# List of all possible values of x_i\n",
    "x_list = [[] for i in range(10)]\n",
    "\n",
    "# Function adding all possible values of x_i to the x_list (i.e. all possible values of x_i having Hamming weight w_i)\n",
    "def all_bytes_same_hamming_weight(index, x_list): \n",
    "    x_index_list = itertools.permutations([str(1) for i in range(w_i_get(index, w_i))] + [str(0) for i in range(8 - w_i_get(index, w_i))])\n",
    "    x_index_list = dict.fromkeys(x_index_list)\n",
    "    x_index_list = map(lambda element:  \"\".join(element), x_index_list)\n",
    "    x_index_list = list(map(bin_str_to_GF, x_index_list))\n",
    "    x_list[index-1] = x_index_list.copy()\n",
    "   \n",
    "# Functions to get/set and add/remove values of x_i in the x_list\n",
    "def x_b_list(index, x_list):\n",
    "    return x_list[index-1].copy()\n",
    "\n",
    "def x_b_list_add_elem(index, elem, x_list):\n",
    "    x_list[index-1] = x_list[index-1] + [elem]\n",
    "\n",
    "def x_b_list_remove_elem(index, elem, x_list):\n",
    "    x_list[index-1]= x_list[index-1][::-1]\n",
    "    x_list[index-1].remove(elem)\n",
    "    x_list[index-1]= x_list[index-1][::-1]\n",
    "    \n",
    "def w_i_get(index, w_i):\n",
    "    return w_i[index - 1]"
   ]
  },
  {
   "cell_type": "code",
   "execution_count": 6,
   "id": "dcec777a",
   "metadata": {},
   "outputs": [],
   "source": [
    "# Add in list all possible values of x_i for the x_i that are free variables (deduced from simplification of system of infered relations)\n",
    "all_bytes_same_hamming_weight(6, x_list)  # For r_1 \n",
    "all_bytes_same_hamming_weight(8, x_list)  # For r_2\n",
    "all_bytes_same_hamming_weight(10, x_list)  # For r_3"
   ]
  },
  {
   "cell_type": "code",
   "execution_count": 7,
   "id": "93a34f53",
   "metadata": {},
   "outputs": [],
   "source": [
    "# Solving infered relations via brute force\n",
    "x_list_f = [[] for i in range(10)]\n",
    "\n",
    "for r1 in x_b_list(6, x_list):\n",
    "    for r2 in x_b_list(8, x_list):\n",
    "        for r3 in x_b_list(10, x_list):\n",
    "            tmp1 = r2*x_255/r3 # x1\n",
    "            if bin(GF_to_bin(tmp1))[2:].count('1') == w_i_get(1, w_i):\n",
    "                tmp2 = r3*x_255/r2 # x2\n",
    "                if bin(GF_to_bin(tmp2))[2:].count('1') == w_i_get(2, w_i):\n",
    "                    tmp3 = r1*r3/x_255 # x3\n",
    "                    if bin(GF_to_bin(tmp3))[2:].count('1') == w_i_get(3, w_i):\n",
    "                        tmp4 = x_255^3/(r1*r3) # x4\n",
    "                        if bin(GF_to_bin(tmp4))[2:].count('1') == w_i_get(4, w_i): \n",
    "                            tmp5 = x_255**2/r1 # x5\n",
    "                            if bin(GF_to_bin(tmp5))[2:].count('1') == w_i_get(5, w_i):\n",
    "                                tmp7 = x_255**2/r2 # x7\n",
    "                                if bin(GF_to_bin(tmp7))[2:].count('1') == w_i_get(7, w_i):\n",
    "                                    tmp9 = x_255**2/r3 # x9\n",
    "                                    if bin(GF_to_bin(tmp9))[2:].count('1') == w_i_get(9, w_i):\n",
    "                                        x_b_list_add_elem(1, tmp1, x_list_f)\n",
    "                                        x_b_list_add_elem(2, tmp2, x_list_f)\n",
    "                                        x_b_list_add_elem(3, tmp3, x_list_f)\n",
    "                                        x_b_list_add_elem(4, tmp4, x_list_f)\n",
    "                                        x_b_list_add_elem(5, tmp5, x_list_f)\n",
    "                                        x_b_list_add_elem(6, r1, x_list_f)\n",
    "                                        x_b_list_add_elem(7, tmp7, x_list_f)\n",
    "                                        x_b_list_add_elem(8, r2, x_list_f)\n",
    "                                        x_b_list_add_elem(9, tmp9, x_list_f)\n",
    "                                        x_b_list_add_elem(10, r3, x_list_f)       "
   ]
  },
  {
   "cell_type": "code",
   "execution_count": 8,
   "id": "e6716d25",
   "metadata": {},
   "outputs": [],
   "source": [
    "# Function to verify if the found solutions are correct\n",
    "def verify_filter_equ(x_list):\n",
    "    for i in range(len(x_list)):\n",
    "        assert len(x_list[i]) == len(x_list[(i+1)%10])\n",
    "        \n",
    "    for i in range(len(x_list[0])):\n",
    "        for j in range(len(w_i)):\n",
    "            if HW[GF_to_bin(x_list[j][i])] != w_i[j]:\n",
    "                return 0\n",
    "        if x_list[0][i]*x_list[1][i] != x_255**2:\n",
    "            return 1\n",
    "        if x_list[2][i]*x_list[3][i] != x_255**2:\n",
    "            return 2\n",
    "        if x_list[4][i]*x_list[5][i] != x_255**2:\n",
    "            return 3\n",
    "        if x_list[6][i]*x_list[7][i] != x_255**2:\n",
    "            return 4\n",
    "        if x_list[8][i]*x_list[9][i] != x_255**2:\n",
    "            return 5\n",
    "        if x_list[0][i]*x_list[6][i]*x_list[9][i] != x_255**3:\n",
    "            return 6\n",
    "        if x_list[1][i]*x_list[7][i]*x_list[8][i] != x_255**3:\n",
    "            return 7\n",
    "        if x_list[0][i]*x_list[2][i]*x_list[4][i]*x_list[6][i] != x_255**4:\n",
    "            return 8\n",
    "        if x_list[1][i]*x_list[3][i]*x_list[5][i]*x_list[7][i] != x_255**4:\n",
    "            return 9\n",
    "    return -1\n",
    "\n",
    "assert verify_filter_equ(x_list_f) == -1, \"Error in the found solutions\"\n"
   ]
  },
  {
   "cell_type": "code",
   "execution_count": 9,
   "id": "888ed6ff",
   "metadata": {
    "scrolled": true
   },
   "outputs": [
    {
     "name": "stdout",
     "output_type": "stream",
     "text": [
      "Possible solution :\n",
      "[[120 84 229 242 255 255 42 240 242 229]\n",
      " [92 148 229 242 255 255 74 184 242 229]\n",
      " [90 112 229 242 255 255 56 180 242 229]\n",
      " [85 26 229 242 255 255 13 170 242 229]\n",
      " [78 50 229 242 255 255 25 156 242 229]\n",
      " [240 42 242 229 255 255 84 120 229 242]\n",
      " [60 168 229 242 255 255 84 120 242 229]\n",
      " [184 74 242 229 255 255 148 92 229 242]\n",
      " [180 56 242 229 255 255 112 90 229 242]\n",
      " [45 224 229 242 255 255 112 90 242 229]\n",
      " [170 13 242 229 255 255 26 85 229 242]\n",
      " [156 25 242 229 255 255 50 78 229 242]\n",
      " [39 100 229 242 255 255 50 78 242 229]\n",
      " [120 84 242 229 255 255 168 60 229 242]\n",
      " [90 112 242 229 255 255 224 45 229 242]\n",
      " [78 50 242 229 255 255 100 39 229 242]]\n"
     ]
    }
   ],
   "source": [
    "# Print the found solutions\n",
    "x_list_f_bin = np.array(x_list_f).copy()\n",
    "\n",
    "for i in range(len(x_list_f_bin)):\n",
    "    for j in range(len(x_list_f_bin[i])):\n",
    "        x_list_f_bin[i][j] = GF_to_bin(x_list_f[i][j])\n",
    "\n",
    "x_list_f_bin = np.array(x_list_f_bin)\n",
    "print(\"Possible solution :\")\n",
    "print(x_list_f_bin.T)"
   ]
  },
  {
   "cell_type": "code",
   "execution_count": 10,
   "id": "e3564ee8",
   "metadata": {},
   "outputs": [
    {
     "name": "stdout",
     "output_type": "stream",
     "text": [
      "Constant variable x_i :\n",
      "Var x_5 is constant\n",
      "Var x_6 is constant\n"
     ]
    }
   ],
   "source": [
    "# Determine constant variable\n",
    "print(\"Constant variable x_i :\")\n",
    "for i in range(x_list_f_bin.shape[0]):\n",
    "    tmp = x_list_f_bin[i, 0]\n",
    "    constant = True\n",
    "    for j in range(x_list_f_bin.shape[1]):\n",
    "        if  x_list_f_bin[i, j] != tmp:\n",
    "            constant = False\n",
    "    if constant == True:\n",
    "        print(f\"Var x_{i+1} is constant\")"
   ]
  }
 ],
 "metadata": {
  "kernelspec": {
   "display_name": "SageMath 9.5",
   "language": "sage",
   "name": "sagemath"
  },
  "language_info": {
   "codemirror_mode": {
    "name": "ipython",
    "version": 3
   },
   "file_extension": ".py",
   "mimetype": "text/x-python",
   "name": "python",
   "nbconvert_exporter": "python",
   "pygments_lexer": "ipython3",
   "version": "3.10.6"
  },
  "vscode": {
   "interpreter": {
    "hash": "e7d06b70e635047f2d4260d4166a795eac89c00d788857273550b2a289483c1e"
   }
  }
 },
 "nbformat": 4,
 "nbformat_minor": 5
}
