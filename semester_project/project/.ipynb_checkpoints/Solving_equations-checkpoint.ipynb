{
 "cells": [
  {
   "cell_type": "code",
   "execution_count": 1,
   "id": "4fe88c77",
   "metadata": {},
   "outputs": [],
   "source": [
    "\"\"\"\n",
    "# Can't do binary operation on Sybmolic Expression\n",
    "var('a b c d')\n",
    "\n",
    "# Use SAT with BooleanPolynomialRing\n",
    "from sage.rings.polynomial.multi_polynomial_sequence import PolynomialSequence \n",
    "from sage.sat.boolean_polynomials import solve as solve_sat\n",
    "\n",
    "A.<a, b, c, d, e, f, g, h> = BooleanPolynomialRing() \n",
    "\n",
    "B.<a, b, c, d, e, f, g, h> = BooleanPolynomialRing() \n",
    "\n",
    "\n",
    "\n",
    "F = [A + B]  \n",
    "\n",
    "solve_sat(F,n=infinity,target_variables=[a,b]) \n",
    "\"\"\"\n",
    "\n",
    "\n",
    "\"\"\"\n",
    "K.<alpha>=GF(2**8)\n",
    "R.<x_1, x_2, x_3, x_4, x_5, x_6, x_7, x_8> = PolynomialRing(K, 8, order='lex') \n",
    "\n",
    "J=sage.rings.ideal.FieldIdeal(R) + Ideal([x_1 * x_2 - alpha**255, x_5 * x_6 - alpha**255, x_9 * x_2 alpha**255]) \n",
    "J.groebner_basis() \n",
    "J.variety() \n",
    "\"\"\"\n",
    "\n",
    "'''\n",
    "y = polygen(F)\n",
    "\n",
    "L = y + x\n",
    "print(parent(L))\n",
    "print(x**3)\n",
    "sol = L.roots()[0][0]\n",
    "print(\"Solution is\",sol)\n",
    "'''\n",
    "None"
   ]
  },
  {
   "cell_type": "code",
   "execution_count": 2,
   "id": "e64a44be",
   "metadata": {},
   "outputs": [
    {
     "data": {
      "text/plain": [
       "'\\nvar(\"x_1 x_2 x_3 x_4 x_5 x_6 x_7 x_8 x_9 x_10 x_255\")\\n\\nsolve([x_1*x_2 == x_255**2, x_3*x_4 == x_255**2, x_5*x_6 == x_255**2, x_7*x_8 == x_255**2, x_9*x_10 == x_255**2, \\n       x_1*x_7*x_9 == x_255**3, x_2*x_8*x_10 == x_255**3,\\n       x_1*x_3*x_5*x_7 == x_255**4, x_2*x_4*x_6*x_8 == x_255**4], [x_1, x_2, x_3, x_4, x_5, x_6, x_7, x_8, x_9, x_10])\\n\\nimport random\\nimport numpy as np\\n\\nw_i = 1 # TODO modify w_i\\nfound_sol = False\\n\\nwhile found_sol == False:\\n    b_list = []\\n    for i in range(3):\\n        sol = random.sample([i for i in range(8)], w_i)\\n        b_list += [np.sum(2**np.array(sol))]\\n    \\n    b_list = [bin_to_GF(elem) for elem in b_list]\\n    r1 = b_list[0]\\n    r2 = b_list[1]\\n    r3 = b_list[2]\\n    \\n    x_255 = bin_to_GF(0xFF)\\n    \\n    b_list = []\\n    b_list += [r2*x_255/r3]\\n    b_list += [r3*x_255/r2]\\n    b_list += [r1*r3/x_255]\\n    b_list += [x_255**3/(r1*r3)]\\n    b_list += [x_255**2/r1]\\n    b_list += [r1]\\n    b_list += [x_255**2/r2]\\n    b_list += [r2]\\n    b_list += [r3]\\n    b_list += [x_255**2/r3]\\n    \\n    found_sol = [GF_to_bin(elem) for elem in b_list]\\n\\nprint(found_sol)\\n\\n\\nimport random\\nimport numpy as np\\n\\nw_i = 1 # TODO modify w_i\\nfound_sol = False\\n\\nwhile found_sol == False:\\n    b_list = []\\n    for i in range(10):\\n        sol = random.sample([i for i in range(8)], w_i)\\n        b_list += [np.sum(2**np.array(sol))]\\n    \\n    b_list = [bin_to_GF(elem) for elem in b_list]\\n\\n    if verify_filter_equ(b_list) == -1:\\n        print(\"Done\")\\n        sol = permu\\n        found_sol = True\\n        break\\n        \\n'"
      ]
     },
     "execution_count": 2,
     "metadata": {},
     "output_type": "execute_result"
    }
   ],
   "source": [
    "\"\"\"\n",
    "var(\"x_1 x_2 x_3 x_4 x_5 x_6 x_7 x_8 x_9 x_10 x_255\")\n",
    "\n",
    "solve([x_1*x_2 == x_255**2, x_3*x_4 == x_255**2, x_5*x_6 == x_255**2, x_7*x_8 == x_255**2, x_9*x_10 == x_255**2, \n",
    "       x_1*x_7*x_9 == x_255**3, x_2*x_8*x_10 == x_255**3,\n",
    "       x_1*x_3*x_5*x_7 == x_255**4, x_2*x_4*x_6*x_8 == x_255**4], [x_1, x_2, x_3, x_4, x_5, x_6, x_7, x_8, x_9, x_10])\n",
    "\n",
    "import random\n",
    "import numpy as np\n",
    "\n",
    "w_i = 1 # TODO modify w_i\n",
    "found_sol = False\n",
    "\n",
    "while found_sol == False:\n",
    "    b_list = []\n",
    "    for i in range(3):\n",
    "        sol = random.sample([i for i in range(8)], w_i)\n",
    "        b_list += [np.sum(2**np.array(sol))]\n",
    "    \n",
    "    b_list = [bin_to_GF(elem) for elem in b_list]\n",
    "    r1 = b_list[0]\n",
    "    r2 = b_list[1]\n",
    "    r3 = b_list[2]\n",
    "    \n",
    "    x_255 = bin_to_GF(0xFF)\n",
    "    \n",
    "    b_list = []\n",
    "    b_list += [r2*x_255/r3]\n",
    "    b_list += [r3*x_255/r2]\n",
    "    b_list += [r1*r3/x_255]\n",
    "    b_list += [x_255**3/(r1*r3)]\n",
    "    b_list += [x_255**2/r1]\n",
    "    b_list += [r1]\n",
    "    b_list += [x_255**2/r2]\n",
    "    b_list += [r2]\n",
    "    b_list += [r3]\n",
    "    b_list += [x_255**2/r3]\n",
    "    \n",
    "    found_sol = [GF_to_bin(elem) for elem in b_list]\n",
    "\n",
    "print(found_sol)\n",
    "\n",
    "\n",
    "import random\n",
    "import numpy as np\n",
    "\n",
    "w_i = 1 # TODO modify w_i\n",
    "found_sol = False\n",
    "\n",
    "while found_sol == False:\n",
    "    b_list = []\n",
    "    for i in range(10):\n",
    "        sol = random.sample([i for i in range(8)], w_i)\n",
    "        b_list += [np.sum(2**np.array(sol))]\n",
    "    \n",
    "    b_list = [bin_to_GF(elem) for elem in b_list]\n",
    "\n",
    "    if verify_filter_equ(b_list) == -1:\n",
    "        print(\"Done\")\n",
    "        sol = permu\n",
    "        found_sol = True\n",
    "        break\n",
    "        \n",
    "\"\"\""
   ]
  },
  {
   "cell_type": "code",
   "execution_count": 3,
   "id": "38ff9c7e",
   "metadata": {},
   "outputs": [],
   "source": [
    "\"\"\"\n",
    "# Test\n",
    "x_list[0] = [0x0F for i in range(10)]\n",
    "x_list[0][0] = [bin_to_GF(elem) for elem in x_list[0][0]]\n",
    "\n",
    "\n",
    "\n",
    "assert len(x_list[0]) == 10\n",
    "\n",
    "M = Matrix(F, [[x_255, x_list[0], 0, 0], # (2)\n",
    "               [x_list[1],x_255, 0, 0],  # (3)\n",
    "               [x_list[2], 0, 0, x_255], # (4)\n",
    "               [x_255, 0, 0, x_list[3]], # (5)\n",
    "               [0, 0, x_255, x_list[4]], # (6)\n",
    "               [0, 0, x_list[5], x_255], # (7)\n",
    "               [0, x_255, x_list[6], 0], # (8)\n",
    "               [0, x_list[7], x_255, 0], # (9)\n",
    "               [x_list[8], 0, 0, x_255], # (10)\n",
    "               [x_255, 0, x_list[9], 0]]) # (11)\n",
    "\n",
    "v = vector(F, (0,0,0,0,0,0,0,0,0,0))\n",
    "           \n",
    "print(M.solve_right(v))\n",
    "\n",
    "particular_soln = M.solve_right(v)\n",
    "for homogeneous_soln in M.right_kernel():\n",
    "    print(particular_soln + homogeneous_soln)\n",
    "\n",
    "\"\"\"\n",
    "None"
   ]
  },
  {
   "cell_type": "code",
   "execution_count": 4,
   "id": "354206e7",
   "metadata": {},
   "outputs": [],
   "source": [
    "\"\"\"\n",
    "def verify_filter_equ(x_list):\n",
    "    if x_list[0]*x_list[1] == x_255**2 and x_list[2]*x_list[3] == x_255**2 and x_list[4]*x_list[5] != x_255**2 and x_list[6]*x_list[7] != x_255**2 and x_list[8]*x_list[9] != x_255**2:\n",
    "        print(\"True\")\n",
    "    if x_list[0]*x_list[1] != x_255**2:\n",
    "        return 1\n",
    "    if x_list[2]*x_list[3] != x_255**2:\n",
    "        return 2\n",
    "    if x_list[4]*x_list[5] != x_255**2:\n",
    "        return 3\n",
    "    if x_list[6]*x_list[7] != x_255**2:\n",
    "        return 4\n",
    "    if x_list[8]*x_list[9] != x_255**2:\n",
    "        return 5\n",
    "    if x_list[0]*x_list[6]*x_list[8] != x_255**3:\n",
    "        return 6\n",
    "    if x_list[1]*x_list[7]*x_list[9] != x_255**3:\n",
    "        return 7\n",
    "    if x_list[0]*x_list[2]*x_list[4]*x_list[6] != x_255**4:\n",
    "        return 8\n",
    "    if x_list[1]*x_list[3]*x_list[5]*x_list[7] != x_255**4:\n",
    "        return 9\n",
    "    return -1\n",
    "    \n",
    "\"\"\"\n",
    "None\n"
   ]
  },
  {
   "cell_type": "markdown",
   "id": "ea7ac085",
   "metadata": {},
   "source": [
    "## Solve equation in GF"
   ]
  },
  {
   "cell_type": "code",
   "execution_count": 5,
   "id": "70757aed",
   "metadata": {},
   "outputs": [
    {
     "name": "stdout",
     "output_type": "stream",
     "text": [
      "Finite Field in x of size 2^8\n"
     ]
    }
   ],
   "source": [
    "F.<x> = GF(2^8)\n",
    "print(F)\n",
    "\n",
    "def bin_str_to_GF(binary):\n",
    "    tmp = 0\n",
    "    for j, k in enumerate(binary.rjust(8, '0')[::-1]):\n",
    "        if k == '1':\n",
    "            tmp += x**int(j)\n",
    "    return tmp\n",
    "\n",
    "def int_to_GF(integer):\n",
    "    tmp = 0\n",
    "    for j, k in enumerate(bin(integer)[2:].rjust(8, '0')[::-1]):\n",
    "        if k == '1':\n",
    "            tmp += x**int(j)\n",
    "    return tmp\n",
    "\n",
    "def GF_to_bin(gf_elem):\n",
    "    # print(bin(gf_elem.integer_representation())[2:].rjust(8, '0'))\n",
    "    return gf_elem.integer_representation()"
   ]
  },
  {
   "cell_type": "code",
   "execution_count": 6,
   "id": "b3ffa622",
   "metadata": {},
   "outputs": [
    {
     "data": {
      "text/plain": [
       "[[x_1 == r2*x_255/r3, x_2 == r3*x_255/r2, x_3 == r1*r3/x_255, x_4 == x_255^3/(r1*r3), x_5 == x_255^2/r1, x_6 == r1, x_7 == x_255^2/r2, x_8 == r2, x_9 == r3, x_10 == x_255^2/r3]]"
      ]
     },
     "execution_count": 6,
     "metadata": {},
     "output_type": "execute_result"
    }
   ],
   "source": [
    "var(\"x_1 x_2 x_3 x_4 x_5 x_6 x_7 x_8 x_9 x_10 x_255\")\n",
    "\n",
    "solve([x_1*x_2 == x_255**2, x_3*x_4 == x_255**2, x_5*x_6 == x_255**2, x_7*x_8 == x_255**2, x_9*x_10 == x_255**2, \n",
    "       x_1*x_7*x_9 == x_255**3, x_2*x_8*x_10 == x_255**3,\n",
    "       x_1*x_3*x_5*x_7 == x_255**4, x_2*x_4*x_6*x_8 == x_255**4], [x_1, x_2, x_3, x_4, x_5, x_6, x_7, x_8, x_9, x_10])"
   ]
  },
  {
   "cell_type": "code",
   "execution_count": 16,
   "id": "ed8394fe",
   "metadata": {
    "scrolled": true
   },
   "outputs": [],
   "source": [
    "import random\n",
    "import numpy as np\n",
    "\n",
    "w_i = [4, 4, 4, 4, 4, 4, 4, 4, 4, 4, 4, 4, 4, 4, 4, 4] # TODO modify w_i"
   ]
  },
  {
   "cell_type": "code",
   "execution_count": 17,
   "id": "82c41cbe",
   "metadata": {
    "scrolled": true
   },
   "outputs": [],
   "source": [
    "import itertools\n",
    "\n",
    "x_255 = int_to_GF(0xFF)\n",
    "x_list = [[] for i in range(10)]\n",
    "\n",
    "def all_bytes_same_hamming_weight(index, x_list): \n",
    "    x_index_list = itertools.permutations([str(1) for i in range(w_i_get(index, w_i))] + [str(0) for i in range(8 - w_i_get(index, w_i))])\n",
    "    x_index_list = dict.fromkeys(x_index_list)\n",
    "    x_index_list = map(lambda element:  \"\".join(element), x_index_list)\n",
    "    x_index_list = list(map(bin_str_to_GF, x_index_list))\n",
    "    x_list[index-1] = x_index_list.copy()\n",
    "    \n",
    "def x_b_list(index, x_list):\n",
    "    return x_list[index-1].copy()\n",
    "\n",
    "def x_b_list_add_elem(index, elem, x_list):\n",
    "    x_list[index-1] = x_list[index-1] + [elem]\n",
    "\n",
    "def x_b_list_remove_elem(index, elem, x_list):\n",
    "    x_list[index-1]= x_list[index-1][::-1]\n",
    "    x_list[index-1].remove(elem)\n",
    "    x_list[index-1]= x_list[index-1][::-1]\n",
    "    \n",
    "def w_i_get(index, w_i):\n",
    "    return w_i[index - 1]"
   ]
  },
  {
   "cell_type": "code",
   "execution_count": 18,
   "id": "de4275d7",
   "metadata": {},
   "outputs": [],
   "source": [
    "def set_variable(variable1_index, variable2_linear_index, x_list, w_i):\n",
    "    # all_bytes_same_hamming_weight(variable1_index, x_list)  \n",
    "\n",
    "    for x_b_i in x_b_list(variable1_index, x_list).copy():\n",
    "        tmp = x_255**2/x_b_i\n",
    "        if bin(GF_to_bin(tmp))[2:].count('1') == w_i(variable2_linear_index, w_i):\n",
    "            x_b_list_add_elem(variable2_linear_index, tmp, x_list)\n",
    "        else:\n",
    "            x_b_list_remove_elem(variable1_index, x_b_i, x_list)"
   ]
  },
  {
   "cell_type": "code",
   "execution_count": 19,
   "id": "dcec777a",
   "metadata": {},
   "outputs": [],
   "source": [
    "all_bytes_same_hamming_weight(6, x_list)  # For r_1 \n",
    "all_bytes_same_hamming_weight(8, x_list)  # For r_2\n",
    "all_bytes_same_hamming_weight(9, x_list)  # For r_3"
   ]
  },
  {
   "cell_type": "code",
   "execution_count": 32,
   "id": "93a34f53",
   "metadata": {},
   "outputs": [],
   "source": [
    "x_list_f = [[] for i in range(10)]\n",
    "\n",
    "for r1 in x_b_list(6, x_list):\n",
    "    for r2 in x_b_list(8, x_list):\n",
    "        for r3 in x_b_list(9, x_list):\n",
    "            tmp1 = r2*x_255/r3 # x1\n",
    "            if bin(GF_to_bin(tmp1))[2:].count('1') == w_i_get(1, w_i):\n",
    "                tmp2 = r3*x_255/r2 # x2\n",
    "                if bin(GF_to_bin(tmp2))[2:].count('1') == w_i_get(2, w_i):\n",
    "                    tmp3 = r1*r3/x_255 # x3\n",
    "                    if bin(GF_to_bin(tmp3))[2:].count('1') == w_i_get(3, w_i):\n",
    "                        tmp4 = x_255^3/(r1*r3) # x4\n",
    "                        if bin(GF_to_bin(tmp4))[2:].count('1') == w_i_get(4, w_i): \n",
    "                            tmp5 = x_255**2/r1 # x5\n",
    "                            if bin(GF_to_bin(tmp5))[2:].count('1') == w_i_get(5, w_i):\n",
    "                                tmp7 = x_255**2/r2 # x7\n",
    "                                if bin(GF_to_bin(tmp7))[2:].count('1') == w_i_get(7, w_i):\n",
    "                                    tmp10 = x_255**2/r3 # x10\n",
    "                                    if bin(GF_to_bin(tmp10))[2:].count('1') == w_i_get(10, w_i):\n",
    "                                        x_b_list_add_elem(1, tmp1, x_list_f)\n",
    "                                        x_b_list_add_elem(2, tmp2, x_list_f)\n",
    "                                        x_b_list_add_elem(3, tmp3, x_list_f)\n",
    "                                        x_b_list_add_elem(4, tmp4, x_list_f)\n",
    "                                        x_b_list_add_elem(5, tmp5, x_list_f)\n",
    "                                        x_b_list_add_elem(6, r1, x_list_f)\n",
    "                                        x_b_list_add_elem(7, tmp7, x_list_f)\n",
    "                                        x_b_list_add_elem(8, r2, x_list_f)\n",
    "                                        x_b_list_add_elem(9, r3, x_list_f)\n",
    "                                        x_b_list_add_elem(10, tmp10, x_list_f)"
   ]
  },
  {
   "cell_type": "code",
   "execution_count": 33,
   "id": "e6716d25",
   "metadata": {},
   "outputs": [],
   "source": [
    "def verify_filter_equ(x_list):\n",
    "    for i in range(len(x_list)):\n",
    "        assert len(x_list[i]) == len(x_list[(i+1)%10])\n",
    "        \n",
    "    for i in range(len(x_list[0])):\n",
    "        if x_list[0][i]*x_list[1][i] == x_255**2 and x_list[2][i]*x_list[3][i] == x_255**2 and x_list[4][i]*x_list[5][i] != x_255**2 and x_list[6][i]*x_list[7][i] != x_255**2 and x_list[8][i]*x_list[9][i] != x_255**2:\n",
    "            pass\n",
    "        if x_list[0][i]*x_list[1][i] != x_255**2:\n",
    "            return 1\n",
    "        if x_list[2][i]*x_list[3][i] != x_255**2:\n",
    "            return 2\n",
    "        if x_list[4][i]*x_list[5][i] != x_255**2:\n",
    "            return 3\n",
    "        if x_list[6][i]*x_list[7][i] != x_255**2:\n",
    "            return 4\n",
    "        if x_list[8][i]*x_list[9][i] != x_255**2:\n",
    "            return 5\n",
    "        if x_list[0][i]*x_list[6][i]*x_list[8][i] != x_255**3:\n",
    "            return 6\n",
    "        if x_list[1][i]*x_list[7][i]*x_list[9][i] != x_255**3:\n",
    "            return 7\n",
    "        if x_list[0][i]*x_list[2][i]*x_list[4][i]*x_list[6][i] != x_255**4:\n",
    "            return 8\n",
    "        if x_list[1][i]*x_list[3][i]*x_list[5][i]*x_list[7][i] != x_255**4:\n",
    "            return 9\n",
    "    return -1"
   ]
  },
  {
   "cell_type": "code",
   "execution_count": 34,
   "id": "6734c258",
   "metadata": {},
   "outputs": [],
   "source": [
    "assert verify_filter_equ(x_list_f) == -1"
   ]
  },
  {
   "cell_type": "code",
   "execution_count": 35,
   "id": "91705f7a",
   "metadata": {},
   "outputs": [
    {
     "name": "stdout",
     "output_type": "stream",
     "text": [
      "[[x^7 + x^5 + x^4 + 1, x^6 + x^4 + x^2 + x, x^7 + x^5 + x^3 + x^2, x^7 + x^5 + x^4 + 1, x^7 + x^5 + x^3 + x^2, x^7 + x^5 + x^3 + x^2, x^6 + x^4 + x^2 + x, x^7 + x^5 + x^4 + 1, x^6 + x^4 + x^3 + x^2, x^6 + x^4 + x^3 + x^2, x^5 + x^3 + x^2 + x, x^5 + x^4 + x^3 + x, x^7 + x^5 + x^3 + x^2, x^7 + x^5 + x^4 + 1, x^6 + x^4 + x^2 + x, x^6 + x^4 + x^2 + x, x^5 + x^3 + x^2 + x, x^6 + x^4 + x^3 + x^2, x^5 + x^4 + x^3 + x, x^5 + x^4 + x^3 + x, x^5 + x^3 + x^2 + x, x^5 + x^4 + x^3 + x, x^6 + x^4 + x^3 + x^2, x^5 + x^3 + x^2 + x], [x^5 + x^4 + x^3 + x, x^6 + x^4 + x^3 + x^2, x^5 + x^3 + x^2 + x, x^5 + x^4 + x^3 + x, x^5 + x^3 + x^2 + x, x^5 + x^3 + x^2 + x, x^6 + x^4 + x^3 + x^2, x^5 + x^4 + x^3 + x, x^6 + x^4 + x^2 + x, x^6 + x^4 + x^2 + x, x^7 + x^5 + x^3 + x^2, x^7 + x^5 + x^4 + 1, x^5 + x^3 + x^2 + x, x^5 + x^4 + x^3 + x, x^6 + x^4 + x^3 + x^2, x^6 + x^4 + x^3 + x^2, x^7 + x^5 + x^3 + x^2, x^6 + x^4 + x^2 + x, x^7 + x^5 + x^4 + 1, x^7 + x^5 + x^4 + 1, x^7 + x^5 + x^3 + x^2, x^7 + x^5 + x^4 + 1, x^6 + x^4 + x^2 + x, x^7 + x^5 + x^3 + x^2], [x^6 + x^4 + x^3 + x^2, x^6 + x^4 + x^3 + x^2, x^5 + x^3 + x^2 + x, x^5 + x^3 + x^2 + x, x^6 + x^4 + x^3 + x^2, x^5 + x^4 + x^3 + x, x^6 + x^4 + x^3 + x^2, x^5 + x^4 + x^3 + x, x^7 + x^5 + x^4 + 1, x^7 + x^5 + x^3 + x^2, x^7 + x^5 + x^3 + x^2, x^7 + x^5 + x^4 + 1, x^5 + x^3 + x^2 + x, x^5 + x^4 + x^3 + x, x^5 + x^4 + x^3 + x, x^5 + x^3 + x^2 + x, x^7 + x^5 + x^3 + x^2, x^6 + x^4 + x^2 + x, x^7 + x^5 + x^3 + x^2, x^6 + x^4 + x^2 + x, x^7 + x^5 + x^4 + 1, x^7 + x^5 + x^4 + 1, x^6 + x^4 + x^2 + x, x^6 + x^4 + x^2 + x], [x^6 + x^4 + x^2 + x, x^6 + x^4 + x^2 + x, x^7 + x^5 + x^3 + x^2, x^7 + x^5 + x^3 + x^2, x^6 + x^4 + x^2 + x, x^7 + x^5 + x^4 + 1, x^6 + x^4 + x^2 + x, x^7 + x^5 + x^4 + 1, x^5 + x^4 + x^3 + x, x^5 + x^3 + x^2 + x, x^5 + x^3 + x^2 + x, x^5 + x^4 + x^3 + x, x^7 + x^5 + x^3 + x^2, x^7 + x^5 + x^4 + 1, x^7 + x^5 + x^4 + 1, x^7 + x^5 + x^3 + x^2, x^5 + x^3 + x^2 + x, x^6 + x^4 + x^3 + x^2, x^5 + x^3 + x^2 + x, x^6 + x^4 + x^3 + x^2, x^5 + x^4 + x^3 + x, x^5 + x^4 + x^3 + x, x^6 + x^4 + x^3 + x^2, x^6 + x^4 + x^3 + x^2], [x^5 + x^4 + x^3 + x, x^5 + x^4 + x^3 + x, x^5 + x^4 + x^3 + x, x^5 + x^4 + x^3 + x, x^5 + x^3 + x^2 + x, x^5 + x^3 + x^2 + x, x^5 + x^3 + x^2 + x, x^5 + x^3 + x^2 + x, x^6 + x^4 + x^2 + x, x^6 + x^4 + x^2 + x, x^6 + x^4 + x^2 + x, x^6 + x^4 + x^2 + x, x^6 + x^4 + x^3 + x^2, x^6 + x^4 + x^3 + x^2, x^6 + x^4 + x^3 + x^2, x^6 + x^4 + x^3 + x^2, x^7 + x^5 + x^4 + 1, x^7 + x^5 + x^4 + 1, x^7 + x^5 + x^4 + 1, x^7 + x^5 + x^4 + 1, x^7 + x^5 + x^3 + x^2, x^7 + x^5 + x^3 + x^2, x^7 + x^5 + x^3 + x^2, x^7 + x^5 + x^3 + x^2], [x^7 + x^5 + x^4 + 1, x^7 + x^5 + x^4 + 1, x^7 + x^5 + x^4 + 1, x^7 + x^5 + x^4 + 1, x^7 + x^5 + x^3 + x^2, x^7 + x^5 + x^3 + x^2, x^7 + x^5 + x^3 + x^2, x^7 + x^5 + x^3 + x^2, x^6 + x^4 + x^3 + x^2, x^6 + x^4 + x^3 + x^2, x^6 + x^4 + x^3 + x^2, x^6 + x^4 + x^3 + x^2, x^6 + x^4 + x^2 + x, x^6 + x^4 + x^2 + x, x^6 + x^4 + x^2 + x, x^6 + x^4 + x^2 + x, x^5 + x^4 + x^3 + x, x^5 + x^4 + x^3 + x, x^5 + x^4 + x^3 + x, x^5 + x^4 + x^3 + x, x^5 + x^3 + x^2 + x, x^5 + x^3 + x^2 + x, x^5 + x^3 + x^2 + x, x^5 + x^3 + x^2 + x], [x^6 + x^4 + x^2 + x, x^7 + x^5 + x^4 + 1, x^7 + x^5 + x^4 + 1, x^7 + x^5 + x^3 + x^2, x^6 + x^4 + x^2 + x, x^7 + x^5 + x^4 + 1, x^7 + x^5 + x^3 + x^2, x^7 + x^5 + x^3 + x^2, x^5 + x^4 + x^3 + x, x^5 + x^3 + x^2 + x, x^6 + x^4 + x^3 + x^2, x^6 + x^4 + x^3 + x^2, x^6 + x^4 + x^2 + x, x^6 + x^4 + x^2 + x, x^7 + x^5 + x^4 + 1, x^7 + x^5 + x^3 + x^2, x^5 + x^4 + x^3 + x, x^5 + x^4 + x^3 + x, x^5 + x^3 + x^2 + x, x^6 + x^4 + x^3 + x^2, x^5 + x^4 + x^3 + x, x^5 + x^3 + x^2 + x, x^5 + x^3 + x^2 + x, x^6 + x^4 + x^3 + x^2], [x^6 + x^4 + x^3 + x^2, x^5 + x^4 + x^3 + x, x^5 + x^4 + x^3 + x, x^5 + x^3 + x^2 + x, x^6 + x^4 + x^3 + x^2, x^5 + x^4 + x^3 + x, x^5 + x^3 + x^2 + x, x^5 + x^3 + x^2 + x, x^7 + x^5 + x^4 + 1, x^7 + x^5 + x^3 + x^2, x^6 + x^4 + x^2 + x, x^6 + x^4 + x^2 + x, x^6 + x^4 + x^3 + x^2, x^6 + x^4 + x^3 + x^2, x^5 + x^4 + x^3 + x, x^5 + x^3 + x^2 + x, x^7 + x^5 + x^4 + 1, x^7 + x^5 + x^4 + 1, x^7 + x^5 + x^3 + x^2, x^6 + x^4 + x^2 + x, x^7 + x^5 + x^4 + 1, x^7 + x^5 + x^3 + x^2, x^7 + x^5 + x^3 + x^2, x^6 + x^4 + x^2 + x], [x^7 + x^5 + x^3 + x^2, x^7 + x^5 + x^3 + x^2, x^6 + x^4 + x^2 + x, x^6 + x^4 + x^2 + x, x^7 + x^5 + x^4 + 1, x^6 + x^4 + x^2 + x, x^7 + x^5 + x^4 + 1, x^6 + x^4 + x^2 + x, x^5 + x^3 + x^2 + x, x^5 + x^4 + x^3 + x, x^5 + x^4 + x^3 + x, x^5 + x^3 + x^2 + x, x^7 + x^5 + x^4 + 1, x^7 + x^5 + x^3 + x^2, x^7 + x^5 + x^3 + x^2, x^7 + x^5 + x^4 + 1, x^6 + x^4 + x^3 + x^2, x^5 + x^3 + x^2 + x, x^6 + x^4 + x^3 + x^2, x^5 + x^3 + x^2 + x, x^6 + x^4 + x^3 + x^2, x^6 + x^4 + x^3 + x^2, x^5 + x^4 + x^3 + x, x^5 + x^4 + x^3 + x], [x^5 + x^3 + x^2 + x, x^5 + x^3 + x^2 + x, x^6 + x^4 + x^3 + x^2, x^6 + x^4 + x^3 + x^2, x^5 + x^4 + x^3 + x, x^6 + x^4 + x^3 + x^2, x^5 + x^4 + x^3 + x, x^6 + x^4 + x^3 + x^2, x^7 + x^5 + x^3 + x^2, x^7 + x^5 + x^4 + 1, x^7 + x^5 + x^4 + 1, x^7 + x^5 + x^3 + x^2, x^5 + x^4 + x^3 + x, x^5 + x^3 + x^2 + x, x^5 + x^3 + x^2 + x, x^5 + x^4 + x^3 + x, x^6 + x^4 + x^2 + x, x^7 + x^5 + x^3 + x^2, x^6 + x^4 + x^2 + x, x^7 + x^5 + x^3 + x^2, x^6 + x^4 + x^2 + x, x^6 + x^4 + x^2 + x, x^7 + x^5 + x^4 + 1, x^7 + x^5 + x^4 + 1]]\n"
     ]
    }
   ],
   "source": [
    "print(x_list_f)"
   ]
  },
  {
   "cell_type": "code",
   "execution_count": 37,
   "id": "888ed6ff",
   "metadata": {},
   "outputs": [
    {
     "name": "stdout",
     "output_type": "stream",
     "text": [
      "[[177, 86, 172, 177, 172, 172, 86, 177, 92, 92, 46, 58, 172, 177, 86, 86, 46, 92, 58, 58, 46, 58, 92, 46], [58, 92, 46, 58, 46, 46, 92, 58, 86, 86, 172, 177, 46, 58, 92, 92, 172, 86, 177, 177, 172, 177, 86, 172], [92, 92, 46, 46, 92, 58, 92, 58, 177, 172, 172, 177, 46, 58, 58, 46, 172, 86, 172, 86, 177, 177, 86, 86], [86, 86, 172, 172, 86, 177, 86, 177, 58, 46, 46, 58, 172, 177, 177, 172, 46, 92, 46, 92, 58, 58, 92, 92], [58, 58, 58, 58, 46, 46, 46, 46, 86, 86, 86, 86, 92, 92, 92, 92, 177, 177, 177, 177, 172, 172, 172, 172], [177, 177, 177, 177, 172, 172, 172, 172, 92, 92, 92, 92, 86, 86, 86, 86, 58, 58, 58, 58, 46, 46, 46, 46], [86, 177, 177, 172, 86, 177, 172, 172, 58, 46, 92, 92, 86, 86, 177, 172, 58, 58, 46, 92, 58, 46, 46, 92], [92, 58, 58, 46, 92, 58, 46, 46, 177, 172, 86, 86, 92, 92, 58, 46, 177, 177, 172, 86, 177, 172, 172, 86], [172, 172, 86, 86, 177, 86, 177, 86, 46, 58, 58, 46, 177, 172, 172, 177, 92, 46, 92, 46, 92, 92, 58, 58], [46, 46, 92, 92, 58, 92, 58, 92, 172, 177, 177, 172, 58, 46, 46, 58, 86, 172, 86, 172, 86, 86, 177, 177]]\n"
     ]
    }
   ],
   "source": [
    "x_list_f_bin = x_list_f.copy()\n",
    "\n",
    "for i in range(len(x_list_f_bin)):\n",
    "    for j in range(len(x_list_f_bin[i])):\n",
    "        x_list_f_bin[i][j] = GF_to_bin(x_list_f[i][j])\n",
    "\n",
    "x_list_f_bin = np.array(x_list_f_bin)\n",
    "print(x_list_f_bin[0,:])"
   ]
  },
  {
   "cell_type": "code",
   "execution_count": null,
   "id": "4d3e2a0b",
   "metadata": {},
   "outputs": [],
   "source": []
  },
  {
   "cell_type": "code",
   "execution_count": null,
   "id": "ef3bc77c",
   "metadata": {},
   "outputs": [],
   "source": []
  }
 ],
 "metadata": {
  "kernelspec": {
   "display_name": "SageMath 9.5",
   "language": "sage",
   "name": "sagemath"
  },
  "language_info": {
   "codemirror_mode": {
    "name": "ipython",
    "version": 3
   },
   "file_extension": ".py",
   "mimetype": "text/x-python",
   "name": "python",
   "nbconvert_exporter": "python",
   "pygments_lexer": "ipython3",
   "version": "3.10.6"
  }
 },
 "nbformat": 4,
 "nbformat_minor": 5
}
