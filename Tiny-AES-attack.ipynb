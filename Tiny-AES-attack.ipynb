{
 "cells": [
  {
   "cell_type": "markdown",
   "metadata": {},
   "source": [
    "# TinyAES Attack"
   ]
  },
  {
   "attachments": {},
   "cell_type": "markdown",
   "metadata": {},
   "source": [
    "---\n",
    "Objective : Redo paper https://eprint.iacr.org/2021/1252.pdf\n",
    "\n",
    "---\n",
    "\n",
    "AES encryption can be found :\n",
    "\n",
    "`~/hardware/victims/firmware/crypto*/tiny-AES128-C`"
   ]
  },
  {
   "cell_type": "markdown",
   "metadata": {},
   "source": [
    "## AES Python model"
   ]
  },
  {
   "cell_type": "code",
   "execution_count": null,
   "metadata": {},
   "outputs": [],
   "source": [
    "import numpy as np\n",
    "\n",
    "# S-box function defined using a lookup table\n",
    "sbox = [\n",
    "    # 0    1    2    3    4    5    6    7    8    9    a    b    c    d    e    f \n",
    "    0x63,0x7c,0x77,0x7b,0xf2,0x6b,0x6f,0xc5,0x30,0x01,0x67,0x2b,0xfe,0xd7,0xab,0x76, # 0\n",
    "    0xca,0x82,0xc9,0x7d,0xfa,0x59,0x47,0xf0,0xad,0xd4,0xa2,0xaf,0x9c,0xa4,0x72,0xc0, # 1\n",
    "    0xb7,0xfd,0x93,0x26,0x36,0x3f,0xf7,0xcc,0x34,0xa5,0xe5,0xf1,0x71,0xd8,0x31,0x15, # 2\n",
    "    0x04,0xc7,0x23,0xc3,0x18,0x96,0x05,0x9a,0x07,0x12,0x80,0xe2,0xeb,0x27,0xb2,0x75, # 3\n",
    "    0x09,0x83,0x2c,0x1a,0x1b,0x6e,0x5a,0xa0,0x52,0x3b,0xd6,0xb3,0x29,0xe3,0x2f,0x84, # 4\n",
    "    0x53,0xd1,0x00,0xed,0x20,0xfc,0xb1,0x5b,0x6a,0xcb,0xbe,0x39,0x4a,0x4c,0x58,0xcf, # 5\n",
    "    0xd0,0xef,0xaa,0xfb,0x43,0x4d,0x33,0x85,0x45,0xf9,0x02,0x7f,0x50,0x3c,0x9f,0xa8, # 6\n",
    "    0x51,0xa3,0x40,0x8f,0x92,0x9d,0x38,0xf5,0xbc,0xb6,0xda,0x21,0x10,0xff,0xf3,0xd2, # 7\n",
    "    0xcd,0x0c,0x13,0xec,0x5f,0x97,0x44,0x17,0xc4,0xa7,0x7e,0x3d,0x64,0x5d,0x19,0x73, # 8\n",
    "    0x60,0x81,0x4f,0xdc,0x22,0x2a,0x90,0x88,0x46,0xee,0xb8,0x14,0xde,0x5e,0x0b,0xdb, # 9\n",
    "    0xe0,0x32,0x3a,0x0a,0x49,0x06,0x24,0x5c,0xc2,0xd3,0xac,0x62,0x91,0x95,0xe4,0x79, # a\n",
    "    0xe7,0xc8,0x37,0x6d,0x8d,0xd5,0x4e,0xa9,0x6c,0x56,0xf4,0xea,0x65,0x7a,0xae,0x08, # b\n",
    "    0xba,0x78,0x25,0x2e,0x1c,0xa6,0xb4,0xc6,0xe8,0xdd,0x74,0x1f,0x4b,0xbd,0x8b,0x8a, # c\n",
    "    0x70,0x3e,0xb5,0x66,0x48,0x03,0xf6,0x0e,0x61,0x35,0x57,0xb9,0x86,0xc1,0x1d,0x9e, # d\n",
    "    0xe1,0xf8,0x98,0x11,0x69,0xd9,0x8e,0x94,0x9b,0x1e,0x87,0xe9,0xce,0x55,0x28,0xdf, # e\n",
    "    0x8c,0xa1,0x89,0x0d,0xbf,0xe6,0x42,0x68,0x41,0x99,0x2d,0x0f,0xb0,0x54,0xbb,0x16  # f\n",
    "]\n",
    "\n",
    "def aes_internal(inputdata, key):\n",
    "    return sbox[inputdata ^ key]\n",
    "\n",
    "# Compute Hamming weight of a byte\n",
    "def calc_hamming_weight(n):\n",
    "    return bin(n).count(\"1\")\n",
    "\n",
    "# Compute Hamming weight of a byte using a lookup table\n",
    "HW = []\n",
    "for i in range(256):\n",
    "    HW += [calc_hamming_weight(i)]\n",
    "    \n",
    "# Test the Hamming weight function\n",
    "assert HW[aes_internal(0xA1, 0x79)] == 3\n",
    "assert HW[aes_internal(0x22, 0xB1)] == 5\n",
    "print(\"✔️ OK to continue!\")"
   ]
  },
  {
   "cell_type": "code",
   "execution_count": null,
   "metadata": {},
   "outputs": [],
   "source": [
    "# AES python implementation is based on https://github.com/boppreh/aes/\n",
    "\n",
    "def pad(plaintext):\n",
    "    \"\"\" Pad the plaintext to a multiple of 16 bytes.  \"\"\"\n",
    "    padding_len = 16 - (len(plaintext) % 16)\n",
    "    padding = bytes([padding_len] * padding_len)\n",
    "    return plaintext + padding\n",
    "\n",
    "def unpad(plaintext):\n",
    "    \"\"\" Remove the padding from the plaintext.  \"\"\"\n",
    "    padding_len = plaintext[-1]\n",
    "    assert padding_len > 0\n",
    "    message, padding = plaintext[:-padding_len], plaintext[-padding_len:]\n",
    "    assert all(p == padding_len for p in padding)\n",
    "    return message\n",
    "\n",
    "def bytes2matrix(text):\n",
    "    \"\"\" Converts a 16-byte array into a 4x4 matrix.  \"\"\"\n",
    "    return [list(text[i:i+4]) for i in range(0, len(text), 4)]\n",
    "\n",
    "def matrix2bytes(matrix):\n",
    "    \"\"\" Converts a 4x4 matrix into a 16-byte array.  \"\"\"\n",
    "    return bytes(sum(matrix, []))\n",
    "\n",
    "def xor_bytes(a, b):\n",
    "    \"\"\" Returns a new byte array with the elements xor'ed. \"\"\"\n",
    "    return bytes(i^j for i, j in zip(a, b))\n",
    "\n",
    "def print_byte_array_in_hex(array):\n",
    "    \"\"\" Prints a byte array in hex format. \"\"\"\n",
    "    tmp = np.array(list(map(lambda elem: hex(elem), array)))\n",
    "    print(tmp)\n",
    "    return tmp\n",
    "\n",
    "def state_to_hamming_weight(s):\n",
    "    \"\"\" Converts state byte matrix to its Hamming weight matrix.  \"\"\"\n",
    "    for i in range(4):\n",
    "        for j in range(4):\n",
    "            s[i][j] = HW[s[i][j]]\n",
    "            \n",
    "def print_state_to_hex_str(s):\n",
    "    \"\"\" Converts integer state byte matrix to hexadecimal (str).  \"\"\"\n",
    "    for i in range(4):\n",
    "        for j in range(4):\n",
    "            s[i][j] = hex(s[i][j])\n",
    "    state_from_hex_str_to_int(s)\n",
    "            \n",
    "def state_from_hex_str_to_int(s):\n",
    "    \"\"\" Converts hexadecimal string state byte matrix to integer state byte matrix.  \"\"\"\n",
    "    for i in range(4):\n",
    "        for j in range(4):\n",
    "            s[i][j] = int(s[i][j], 16)"
   ]
  },
  {
   "cell_type": "code",
   "execution_count": null,
   "metadata": {},
   "outputs": [],
   "source": [
    "# Test the matrix <---> bytes functions\n",
    "bytes_msg = b\"AES message\"\n",
    "tmp = (matrix2bytes(bytes2matrix(pad(bytes_msg))))\n",
    "assert unpad(matrix2bytes(bytes2matrix(pad(bytes_msg)))) == bytes_msg\n",
    "print(\"✔️ OK to continue!\")"
   ]
  },
  {
   "cell_type": "code",
   "execution_count": null,
   "metadata": {},
   "outputs": [],
   "source": [
    "# Addition key or Round key : AK\n",
    "def add_round_key(s, k):\n",
    "    for i in range(4):\n",
    "        for j in range(4):\n",
    "            s[i][j] ^= k[i][j]\n",
    "\n",
    "# Sub-bytes or S-Box : SB\n",
    "def sub_bytes(s):\n",
    "    if type(s) != list:\n",
    "        return sbox[s]\n",
    "    elif type(s[0]) == list:\n",
    "        for i in range(4):\n",
    "            for j in range(4):\n",
    "                s[i][j] = sbox[s[i][j]]\n",
    "        return s\n",
    "    elif type(s[0]) == int:\n",
    "        for i in range(4):\n",
    "            s[i] = sbox[s[i]]\n",
    "        return s\n",
    "\n",
    "# Shift rows or Permutation: PB\n",
    "def shift_rows(s):\n",
    "    s[0][1], s[1][1], s[2][1], s[3][1] = s[1][1], s[2][1], s[3][1], s[0][1]\n",
    "    s[0][2], s[1][2], s[2][2], s[3][2] = s[2][2], s[3][2], s[0][2], s[1][2]\n",
    "    s[0][3], s[1][3], s[2][3], s[3][3] = s[3][3], s[0][3], s[1][3], s[2][3]\n",
    "    \n",
    "def custom_shift_rows(plaintext, index):\n",
    "    shift_rows = [0x00, 0x01, 0x02, 0x03, 0x05, 0x06, 0x07, 0x04, 0x0A, 0x0B, 0x08, 0x09, 0x0F, 0x0C, 0x0D, 0x0E]\n",
    "    return s[shift_rows[index]]\n",
    "\n",
    "# Diffusion layer or Mix Column : MC\n",
    "xtime = lambda a: (((a << 1) ^ 0x1B) & 0xFF) if (a & 0x80) else (a << 1)\n",
    "    \n",
    "def mix_single_column(a):\n",
    "    t = a[0] ^ a[1] ^ a[2] ^ a[3]\n",
    "    u = a[0]\n",
    "    a[0] ^= t ^ xtime(a[0] ^ a[1])\n",
    "    a[1] ^= t ^ xtime(a[1] ^ a[2])\n",
    "    a[2] ^= t ^ xtime(a[2] ^ a[3])\n",
    "    a[3] ^= t ^ xtime(a[3] ^ u)\n",
    "\n",
    "def mix_columns(s):\n",
    "    for i in range(4):\n",
    "        mix_single_column(s[i])\n",
    "        \n",
    "# Key scheduling KS\n",
    "r_con = (\n",
    "    0x00, 0x01, 0x02, 0x04, 0x08, 0x10, 0x20, 0x40,\n",
    "    0x80, 0x1B, 0x36, 0x6C, 0xD8, 0xAB, 0x4D, 0x9A,\n",
    "    0x2F, 0x5E, 0xBC, 0x63, 0xC6, 0x97, 0x35, 0x6A,\n",
    "    0xD4, 0xB3, 0x7D, 0xFA, 0xEF, 0xC5, 0x91, 0x39,\n",
    ")\n",
    "\n",
    "def expand_key(master_key):\n",
    "    # Initialize round keys with raw key material.\n",
    "    key_columns = [bytes(elem) for elem in bytes2matrix(master_key)]\n",
    "    iteration_size = len(master_key) // 4\n",
    "\n",
    "    i = 1\n",
    "    while len(key_columns) < (10 + 1) * 4:\n",
    "        # Copy previous word.\n",
    "        word = list(key_columns[-1])\n",
    "\n",
    "        # Perform schedule_core once every \"row\".\n",
    "        if len(key_columns) % iteration_size == 0:\n",
    "            # Circular shift.\n",
    "            word.append(word.pop(0))\n",
    "            # Map to S-BOX.\n",
    "            word = [sub_bytes(b) for b in word]\n",
    "            # XOR with first byte of R-CON, since the others bytes of R-CON are 0.\n",
    "            word[0] ^= r_con[i]\n",
    "            i += 1\n",
    "        elif len(master_key) == 32 and len(key_columns) % iteration_size == 4:\n",
    "            # Run word through S-box in the fourth iteration when using a\n",
    "            # 256-bit key.\n",
    "            word = [sub_bytes(b) for b in word]\n",
    "\n",
    "        # XOR with equivalent word from previous iteration.\n",
    "        word = xor_bytes(word, key_columns[-iteration_size])\n",
    "        key_columns.append(word)\n",
    "\n",
    "    # Group key words in 4x4 byte matrices.\n",
    "    return [key_columns[4*i : 4*(i+1)] for i in range(len(key_columns) // 4)]"
   ]
  },
  {
   "cell_type": "code",
   "execution_count": null,
   "metadata": {},
   "outputs": [],
   "source": [
    "# AES* - 10 rounds\n",
    "def AES_128_enc(plaintext, key):\n",
    "    assert len(plaintext) == 16\n",
    "\n",
    "    plain_state = bytes2matrix(plaintext)\n",
    "\n",
    "    add_round_key(plain_state, key[0])\n",
    "    \n",
    "    for i in range(1, 10):\n",
    "        sub_bytes(plain_state)\n",
    "        shift_rows(plain_state)\n",
    "        mix_columns(plain_state)\n",
    "        add_round_key(plain_state, key[i])\n",
    "\n",
    "    sub_bytes(plain_state)\n",
    "    shift_rows(plain_state)\n",
    "    add_round_key(plain_state, key[10])\n",
    "\n",
    "    return matrix2bytes(plain_state)"
   ]
  },
  {
   "cell_type": "code",
   "execution_count": null,
   "metadata": {},
   "outputs": [],
   "source": [
    "# Test the AES encryption\n",
    "plaintext = bytes([0x00 for i in range(16)])\n",
    "key = expand_key([0x00 for i in range(16)])\n",
    "\n",
    "assert AES_128_enc(plaintext, key).hex() == \"66e94bd4ef8a2c3b884cfa59ca342b2e\"\n",
    "print(\"✔️ OK to continue!\")"
   ]
  },
  {
   "cell_type": "markdown",
   "metadata": {},
   "source": [
    "## AES with ChipWhisperer board"
   ]
  },
  {
   "cell_type": "markdown",
   "metadata": {},
   "source": [
    "Connect and init. with ChipWhisperer board"
   ]
  },
  {
   "cell_type": "code",
   "execution_count": null,
   "metadata": {},
   "outputs": [],
   "source": [
    "SCOPETYPE = 'OPENADC'\n",
    "PLATFORM='CW308_STM32F4'\n",
    "CRYPTO_TARGET='TINYAES128C'\n",
    "AES_TINY_VERSION='V0'"
   ]
  },
  {
   "cell_type": "code",
   "execution_count": null,
   "metadata": {},
   "outputs": [],
   "source": [
    "%run \"Setup_Scripts/Setup_Generic.ipynb\""
   ]
  },
  {
   "cell_type": "code",
   "execution_count": null,
   "metadata": {
    "scrolled": false
   },
   "outputs": [],
   "source": [
    "%%bash -s \"$PLATFORM\" \"$CRYPTO_TARGET\" \"$AES_TINY_VERSION\"\n",
    "cd hardware/victims/firmware/simpleserial-aes\n",
    "make PLATFORM=$1 CRYPTO_TARGET=$2 AES_TINY_VERSION=$3"
   ]
  },
  {
   "cell_type": "code",
   "execution_count": null,
   "metadata": {},
   "outputs": [],
   "source": [
    "cw.program_target(scope, prog, \"hardware/victims/firmware/simpleserial-aes/simpleserial-aes-{}.hex\".format(PLATFORM))"
   ]
  },
  {
   "cell_type": "code",
   "execution_count": null,
   "metadata": {},
   "outputs": [],
   "source": [
    "project = cw.create_project(\"traces/STM32F4_HW_AES.cwp\", overwrite=True)"
   ]
  },
  {
   "cell_type": "markdown",
   "metadata": {},
   "source": [
    "Test board receive/send"
   ]
  },
  {
   "cell_type": "code",
   "execution_count": null,
   "metadata": {},
   "outputs": [],
   "source": [
    "# Read from board\n",
    "# Read Debug\n",
    "recv_msg = \"\"\n",
    "sub_read = target.read()\n",
    "while sub_read != \"\":\n",
    "    recv_msg += sub_read\n",
    "    sub_read = target.read()\n",
    "\n",
    "assert \"hello\" in recv_msg\n",
    "print(\"✔️ OK to continue!\")"
   ]
  },
  {
   "cell_type": "markdown",
   "metadata": {},
   "source": [
    "## Test AES.c implementation"
   ]
  },
  {
   "cell_type": "code",
   "execution_count": null,
   "metadata": {},
   "outputs": [],
   "source": [
    "import tqdm\n",
    "import numpy as np\n",
    "import time\n",
    "\n",
    "ktp = cw.ktp.Basic()\n",
    "key, text = ktp.next() \n",
    "target.set_key(key)"
   ]
  },
  {
   "cell_type": "code",
   "execution_count": null,
   "metadata": {},
   "outputs": [],
   "source": [
    "plaintext = bytes([0x00 for i in range(16)])\n",
    "key = [0x00 for i in range(16)]\n",
    "key_exp = expand_key(key)\n",
    "result = 0x66e94bd4ef8a2c3b884cfa59ca342b2e"
   ]
  },
  {
   "cell_type": "code",
   "execution_count": null,
   "metadata": {},
   "outputs": [],
   "source": [
    "key = bytearray(key)\n",
    "text = bytearray(plaintext)\n",
    "\n",
    "target.set_key(key)\n",
    "\n",
    "scope.arm()\n",
    "\n",
    "target.simpleserial_write('p', text)\n",
    "ret = scope.capture()\n",
    "\n",
    "if ret:\n",
    "    print(\"Target timed out!\")\n",
    "\n",
    "response = target.simpleserial_read('r', 16)\n",
    "\n",
    "result_c = \"\"\n",
    "for byte in response:\n",
    "    result_c += hex(byte)[2:]\n",
    "\n",
    "assert int(result_c, 16) == result\n",
    "print(\"✔️ OK to continue!\")"
   ]
  },
  {
   "cell_type": "markdown",
   "metadata": {},
   "source": [
    "## DPA Attack based on tuto"
   ]
  },
  {
   "cell_type": "code",
   "execution_count": null,
   "metadata": {},
   "outputs": [],
   "source": [
    "import tqdm\n",
    "import numpy as np\n",
    "import time\n",
    "\n",
    "ktp = cw.ktp.Basic()\n",
    "trace_array = []\n",
    "textin_array = []\n",
    "\n",
    "key, text = ktp.next() \n",
    "\n",
    "\n",
    "\n",
    "target.set_key(key)\n",
    "\n",
    "N = 2500\n",
    "for i in tqdm.trange(N, desc='Capturing traces'):\n",
    "    scope.arm()\n",
    "    \n",
    "    target.simpleserial_write('p', text)\n",
    "    \n",
    "    ret = scope.capture()\n",
    "    if ret:\n",
    "        print(\"Target timed out!\")\n",
    "        continue\n",
    "    \n",
    "    response = target.simpleserial_read('r', 16)\n",
    "    \n",
    "    trace_array.append(scope.get_last_trace())\n",
    "    textin_array.append(text)\n",
    "    \n",
    "    key, text = ktp.next() "
   ]
  },
  {
   "cell_type": "code",
   "execution_count": null,
   "metadata": {},
   "outputs": [],
   "source": [
    "%matplotlib notebook\n",
    "import matplotlib.pylab as plt\n",
    "\n",
    "plt.figure()\n",
    "plt.plot(trace_array)\n",
    "plt.show()"
   ]
  },
  {
   "cell_type": "code",
   "execution_count": null,
   "metadata": {},
   "outputs": [],
   "source": [
    "numtraces = np.shape(trace_array)[0] #total number of traces\n",
    "numpoints = np.shape(trace_array)[1] #samples per trace"
   ]
  },
  {
   "cell_type": "code",
   "execution_count": null,
   "metadata": {},
   "outputs": [],
   "source": [
    "def calculate_diffs(guess, byteindex=0, bitnum=0):\n",
    "    \"\"\"Perform a simple DPA on two traces, uses global `textin_array` and `trace_array` \"\"\"\n",
    "    \n",
    "    one_list = []\n",
    "    zero_list = []\n",
    "\n",
    "    for trace_index in range(numtraces):\n",
    "        hypothetical_leakage = aes_internal(guess, textin_array[trace_index][byteindex])\n",
    "\n",
    "        #Mask off the requested bit\n",
    "        if hypothetical_leakage & (1<<bitnum):\n",
    "            one_list.append(trace_array[trace_index])\n",
    "        else:\n",
    "            zero_list.append(trace_array[trace_index])\n",
    "\n",
    "    one_avg = np.asarray(one_list).mean(axis=0)\n",
    "    zero_avg = np.asarray(zero_list).mean(axis=0)\n",
    "    return abs(one_avg - zero_avg)"
   ]
  },
  {
   "cell_type": "code",
   "execution_count": null,
   "metadata": {},
   "outputs": [],
   "source": [
    "from tqdm import tnrange\n",
    "import numpy as np\n",
    "\n",
    "#Store your key_guess here, compare to known_key\n",
    "key_guess = []\n",
    "known_key = [0x2b, 0x7e, 0x15, 0x16, 0x28, 0xae, 0xd2, 0xa6, 0xab, 0xf7, 0x15, 0x88, 0x09, 0xcf, 0x4f, 0x3c]\n",
    "\n",
    "for subkey in tqdm.tnrange(0, 16, desc=\"Attacking Subkey\"):\n",
    "    max_diffs = [0]*256\n",
    "    full_diffs = [0]*256\n",
    "    for guess in range(0, 256):\n",
    "        full_diff_trace = calculate_diffs(guess, subkey)\n",
    "        max_diffs[guess] = np.max(full_diff_trace)\n",
    "        full_diffs[guess] = full_diff_trace\n",
    "        \n",
    "    #Get argument sort, as each index is the actual key guess.\n",
    "    sorted_args = np.argsort(max_diffs)[::-1]\n",
    "    \n",
    "    #Keep most likely\n",
    "    key_guess.append(sorted_args[0])\n",
    "    \n",
    "    #Print results\n",
    "    print(\"Subkey %2d - most likely %02X (actual %02X)\"%(subkey, key_guess[subkey], known_key[subkey]))\n",
    "    \n",
    "    #Print other top guesses\n",
    "    print(\" Top 5 guesses: \")\n",
    "    for i in range(0, 5):\n",
    "        g = sorted_args[i]\n",
    "        print(\"   %02X - Diff = %f\"%(g, max_diffs[g]))\n",
    "    \n",
    "    print(\"\\n\")"
   ]
  },
  {
   "cell_type": "markdown",
   "metadata": {},
   "source": [
    "# DPA Attack based on paper"
   ]
  },
  {
   "cell_type": "code",
   "execution_count": null,
   "metadata": {},
   "outputs": [],
   "source": [
    "# Set the key\n",
    "def set_up(key):\n",
    "    target.set_key(bytearray(key))\n",
    "    \n",
    "# Encrypt plaintext p once and returns its power trace\n",
    "import time\n",
    "\n",
    "def encrypt_p_power(p):\n",
    "    scope.arm()\n",
    "    \n",
    "    target.simpleserial_write('p', bytearray(p))\n",
    "    \n",
    "    \n",
    "    time.sleep(0.009)\n",
    "    \n",
    "    ret = scope.capture()\n",
    "    if ret:\n",
    "        print(\"Target timed out!\")\n",
    "    \n",
    "    trace_array = scope.get_last_trace()\n",
    "    return trace_array\n",
    "\n",
    "# Encrypt plaintext p n-times and returns average power trace\n",
    "def encrypt_p_power_repeat_n(p, n):\n",
    "    res = np.array(encrypt_p_power(p))\n",
    "    for i in range(n - 1):\n",
    "        tmp = np.array(encrypt_p_power(p))\n",
    "        res += tmp\n",
    "    return (1/n*res).tolist()"
   ]
  },
  {
   "cell_type": "markdown",
   "metadata": {},
   "source": [
    "Record one power trace to identify in it operations"
   ]
  },
  {
   "cell_type": "code",
   "execution_count": null,
   "metadata": {},
   "outputs": [],
   "source": [
    "plaintext = [0x00 for i in range(16)]\n",
    "key = [0x2b, 0x7e, 0x15, 0x16, 0x28, 0xae, 0xd2, 0xa6, 0xab, 0xf7, 0x15, 0x88, 0x09, 0xcf, 0x4f, 0x3c]\n",
    "set_up(key)\n",
    "\n",
    "MAX_cwlite = 24400\n",
    "scope.adc.samples = 9000\n",
    "\n",
    "avg_trace = encrypt_p_power_repeat_n(plaintext, 1000)"
   ]
  },
  {
   "cell_type": "code",
   "execution_count": null,
   "metadata": {
    "scrolled": false
   },
   "outputs": [],
   "source": [
    "%matplotlib notebook\n",
    "import matplotlib.pylab as plt\n",
    "\n",
    "plt.rcParams[\"figure.figsize\"] = (8,3)\n",
    "\n",
    "plt.figure()\n",
    "plt.plot(avg_trace)\n",
    "plt.show()"
   ]
  },
  {
   "cell_type": "markdown",
   "metadata": {},
   "source": [
    "### BLOCK COPY\n",
    "\n",
    "![alt text](Block_copy.png \"Block Copy\")\n"
   ]
  },
  {
   "cell_type": "code",
   "execution_count": null,
   "metadata": {},
   "outputs": [],
   "source": [
    "# FOR BLOCK COPY\n",
    "spikes = np.array(avg_trace[0:440])\n",
    "index = np.where(spikes >= 0.0525)[0]\n",
    "index = index[index > 65]\n",
    "\n",
    "print(index)\n",
    "#assert len(index) == 16 # REDO\n",
    "index = np.array([76, 100, 124, 148, 172, 196, 220, 244, 268, 292, 316, 340, 364, 388, 412, 436])"
   ]
  },
  {
   "cell_type": "markdown",
   "metadata": {},
   "source": [
    "BlockCopy behaviour\n",
    "\n",
    "key = 0x00 0xFF 0x00 ...\n",
    "\n",
    "index = [ 76  92  95  96 100 124 148 172 196 220 244 268 292 316 340 364 388 412\n",
    " 436]\n",
    "\n",
    "key = 0xFF 0x00 ...\n",
    "\n",
    "index = [ 71  72  76 100 124 148 172 196 220 244 268 292 316 340 364 388 412 436]\n",
    "\n",
    "\n",
    "key = 0x00 0x00 ...\n",
    "\n",
    "index = [ 76 100 124 148 172 196 220 240 244 268 292 316 340 364 388 412 436]"
   ]
  },
  {
   "cell_type": "markdown",
   "metadata": {},
   "source": [
    "### ROUND KEY\n",
    "\n",
    "\n",
    "![alt text](round_key_16_spikes0.png \"16 spikes for RK\")"
   ]
  },
  {
   "cell_type": "code",
   "execution_count": null,
   "metadata": {},
   "outputs": [],
   "source": [
    "# FOR AC(0)\n",
    "spikes = np.array(avg_trace[0:1300])\n",
    "index = np.where(spikes >= 0.070)[0]\n",
    "index = index[index > 580]\n",
    "\n",
    "print(index)\n",
    "#assert len(index) == 16 # REDO\n",
    "index = np.array([600, 640, 680, 720, 784, 824, 864, 904, 968, 1008, 1048, 1088,1152, 1192, 1232, 1272])"
   ]
  },
  {
   "cell_type": "markdown",
   "metadata": {},
   "source": [
    "### SHIFT ROWS\n",
    "\n",
    "![alt text](Shift_Rows.png \"16 spikes for RK\")"
   ]
  },
  {
   "cell_type": "code",
   "execution_count": null,
   "metadata": {},
   "outputs": [],
   "source": [
    "# FOR SHIFT ROWS (PB)\n",
    "def find_best_occurances(sub_trace, overall_trace):\n",
    "    length = np.shape(sub_trace)[0]\n",
    "    best_i = 0\n",
    "    avg = float('inf')\n",
    "    for i in range(np.shape(overall_trace)[0] - length):\n",
    "        avg_tmp = np.sum(np.abs(overall_trace[i:i+length] - sub_trace), axis = 0)\n",
    "        if avg_tmp < avg:\n",
    "            best_i = i \n",
    "            avg = avg_tmp\n",
    "    return best_i\n",
    "\n",
    "def insert_0(index_0_left, index_0_right, overall_trace):\n",
    "    assert index_0_right >= index_0_left\n",
    "    assert index_0_left >= 0\n",
    "    return np.concatenate((overall_trace[:index_0_left], np.zeros(index_0_right - index_0_left - 1), overall_trace[index_0_left:]))"
   ]
  },
  {
   "cell_type": "code",
   "execution_count": null,
   "metadata": {},
   "outputs": [],
   "source": [
    "%run \"Setup_Scripts/Setup_Generic.ipynb\"\n",
    "AES_TINY_VERSION='V1'"
   ]
  },
  {
   "cell_type": "code",
   "execution_count": null,
   "metadata": {
    "scrolled": false
   },
   "outputs": [],
   "source": [
    "%%bash -s \"$PLATFORM\" \"$CRYPTO_TARGET\" \"$AES_TINY_VERSION\"\n",
    "cd hardware/victims/firmware/simpleserial-aes-2\n",
    "make PLATFORM=$1 CRYPTO_TARGET=$2  AES_TINY_VERSION=$3"
   ]
  },
  {
   "cell_type": "code",
   "execution_count": null,
   "metadata": {},
   "outputs": [],
   "source": [
    "cw.program_target(scope, prog, \"hardware/victims/firmware/simpleserial-aes-2/simpleserial-aes-{}.hex\".format(PLATFORM))\n",
    "project = cw.create_project(\"traces/STM32F4_HW_AES_2.cwp\", overwrite=True)"
   ]
  },
  {
   "cell_type": "code",
   "execution_count": null,
   "metadata": {},
   "outputs": [],
   "source": [
    "plaintext = [0x00 for i in range(16)]\n",
    "key = [0x2b, 0x7e, 0x15, 0x16, 0x28, 0xae, 0xd2, 0xa6, 0xab, 0xf7, 0x15, 0x88, 0x09, 0xcf, 0x4f, 0x3c]\n",
    "set_up(key)\n",
    "\n",
    "MAX_cwlite = 24400\n",
    "scope.adc.samples = 9000"
   ]
  },
  {
   "cell_type": "code",
   "execution_count": null,
   "metadata": {},
   "outputs": [],
   "source": [
    "start_index = 2250\n",
    "stop_index = 2450\n",
    "avg_trace_zoom = np.array(avg_trace[start_index:stop_index])\n",
    "avg_trace_zoom_bis = encrypt_p_power_repeat_n(plaintext, 1000)[start_index:stop_index]"
   ]
  },
  {
   "cell_type": "code",
   "execution_count": null,
   "metadata": {},
   "outputs": [],
   "source": [
    "# Determine first difference in two traces\n",
    "print(np.argwhere(np.abs(avg_trace_zoom_bis - avg_trace_zoom) > 1.0e-02)[0, 0])"
   ]
  },
  {
   "cell_type": "code",
   "execution_count": null,
   "metadata": {},
   "outputs": [],
   "source": [
    "%matplotlib notebook\n",
    "import matplotlib.pylab as plt\n",
    "\n",
    "plt.rcParams[\"figure.figsize\"] = (8,3)\n",
    "\n",
    "plt.figure()\n",
    "plt.plot(avg_trace_zoom)\n",
    "plt.plot(insert_0(59, 108, avg_trace_zoom_bis), '-')\n",
    "plt.show()"
   ]
  },
  {
   "cell_type": "markdown",
   "metadata": {},
   "source": [
    "### Overall trace with operation indices"
   ]
  },
  {
   "cell_type": "markdown",
   "metadata": {},
   "source": [
    "BlockCopy: 20 - 500\n",
    "\n",
    "Round key (AK) : 590 - 1265\n",
    "\n",
    "Sub bytes (SB) : 1390 - 2200\n",
    "\n",
    "Shift rows (PB) : 2260 - 2500\n",
    "\n",
    "Mix Columns (MC) : 2500 - 3200\n",
    "\n",
    "Round key (AK) : 3250 - 4000"
   ]
  },
  {
   "cell_type": "markdown",
   "metadata": {},
   "source": [
    "## Algo 1\n",
    "\n",
    "### Recovering first byte of the key (i = 0)"
   ]
  },
  {
   "cell_type": "code",
   "execution_count": null,
   "metadata": {},
   "outputs": [],
   "source": [
    "def algo1_recover_ith_key_byte(p, i): # p = byte_msg, i subkey\n",
    "    J = [0 for j in range(256)]\n",
    "    for t in range(256): # t is guess \n",
    "        print(f\"{t}/256\", end='\\r')\n",
    "        p[i] = t\n",
    "        # WITH RANGE INDICES : \n",
    "        e = np.array(encrypt_p_power_repeat_n(p, 30)[index[i] - 1:index[i]]).mean(axis = 0) # b_i,AK(0)\n",
    "        # WITH ONLY ONE INDICE :\n",
    "        # e = np.array(encrypt_p_power_repeat_n(p, 10)[index[i]]) # b_i,AK(0)\n",
    "        # LIKE TUTO WITH S_BOX Leak model\n",
    "        # e = np.max(calculate_diffs(t, i))\n",
    "        J[t] = e\n",
    "    print(\"Done   \")\n",
    "    t_min = np.argsort(np.array(J))\n",
    "    return J, t_min"
   ]
  },
  {
   "cell_type": "code",
   "execution_count": null,
   "metadata": {},
   "outputs": [],
   "source": [
    "i = 0\n",
    "J, res = algo1_recover_ith_key_byte(plaintext, i)\n",
    "\n",
    "#Print results\n",
    "print(\"Subkey %2d - most likely %02X (actual %02X)\"%(i, res[0], key[i]))\n",
    "\n",
    "#Print other top guesses\n",
    "print(\" Top 5 guesses: \")\n",
    "for j in range(0, 5):\n",
    "    print(\"   %02X - averge power trace: %.3f\"%(res[j], J[res[j]]))\n",
    "print(\"\\n\")"
   ]
  },
  {
   "cell_type": "markdown",
   "metadata": {},
   "source": [
    "### Estimate best index range of AC operation"
   ]
  },
  {
   "cell_type": "code",
   "execution_count": null,
   "metadata": {},
   "outputs": [],
   "source": [
    "def algo1_recover_ith_key_byte_range(p, i, l, m): # p = byte_msg, i subkey, l and m are positive integers s.t indices range are equal to [index - l, index + m)\n",
    "    J = [0 for j in range(256)]\n",
    "    for t in range(256): # t is guess \n",
    "        print(f\"{t}/256\", end='\\r')\n",
    "        p[i] = t\n",
    "        if l == 0 and m == 0:\n",
    "            e = np.array(encrypt_p_power_repeat_n(p, 1)[index[i]]) # b_i,AK(0)\n",
    "        else:\n",
    "            e = np.array(encrypt_p_power_repeat_n(p, 1)[index[i] - l:index[i] + m]).mean(axis = 0) # b_i,AK(0) [index - l, index + m)\n",
    "        # e = np.max(calculate_diffs(t, i))\n",
    "        J[t] = e\n",
    "    print(\"Done     \", end='\\r')\n",
    "    t_min = np.argsort(np.array(J))\n",
    "    return J, t_min"
   ]
  },
  {
   "cell_type": "code",
   "execution_count": null,
   "metadata": {
    "scrolled": false
   },
   "outputs": [],
   "source": [
    "i = 0\n",
    "diff_trace_list = []\n",
    "for l in range(5):\n",
    "    for m in range(5):\n",
    "        J, res = algo1_recover_ith_key_byte_range(plaintext, i, l, m)\n",
    "        print(\"Subkey %2d - most likely %02X (actual %02X)\"%(i, res[0], key[i]))\n",
    "        print(f\"l = -{l}, m = {m}\")\n",
    "        print(f\"Average power trace : {J[res[0]]}\")\n",
    "        if res[0] == key[i]:\n",
    "            diff_trace_list += [J[res[1]] - J[res[0]]]\n",
    "        else: \n",
    "            diff_trace_list += [0]\n",
    "\n",
    "sorted_increasing_diff_trace_list = np.argsort(np.array(diff_trace_list))[::-1]\n",
    "\n",
    "for n in range(0, 5):\n",
    "    print(f\"Best {n}th indices : l = {sorted_increasing_diff_trace_list[n]//5}, m = {sorted_increasing_diff_trace_list[n]%5}\")"
   ]
  },
  {
   "cell_type": "markdown",
   "metadata": {},
   "source": [
    "Best 0th indices : l = 1, m = 1\n",
    "Best 1th indices : l = 3, m = 2\n",
    "Best 2th indices : l = 3, m = 1\n",
    "Best 3th indices : l = 2, m = 1\n",
    "Best 4th indices : l = 4, m = 4"
   ]
  },
  {
   "cell_type": "code",
   "execution_count": null,
   "metadata": {},
   "outputs": [],
   "source": [
    "score_list = []\n",
    "for l in range(5):\n",
    "    for m in range(5):\n",
    "        score = 0\n",
    "        print(f\"{5*l + m}       \")\n",
    "        for n in range(50):\n",
    "            J, res = algo1_recover_ith_key_byte_range(plaintext, i, l, m)\n",
    "            if res[0] == key[0]:\n",
    "                score += 1\n",
    "        score_list += [score]\n",
    "        \n",
    "best_score = np.argsort(np.array(score_list))[::-1]\n",
    "for n in range(0, 5):\n",
    "    print(f\"Best {n}th indices : l = {best_score[n]//5}, m = {best_score[n]%5}\")"
   ]
  },
  {
   "cell_type": "markdown",
   "metadata": {},
   "source": [
    "Best 0th indices : l = 1, m = 0\n",
    "Best 1th indices : l = 4, m = 1\n",
    "Best 2th indices : l = 4, m = 0\n",
    "Best 3th indices : l = 2, m = 1\n",
    "Best 4th indices : l = 3, m = 1"
   ]
  },
  {
   "cell_type": "markdown",
   "metadata": {},
   "source": [
    "### Recover full key"
   ]
  },
  {
   "cell_type": "code",
   "execution_count": null,
   "metadata": {},
   "outputs": [],
   "source": [
    "# Recover all key \n",
    "\n",
    "def recover_key(p): # p = byte_msg\n",
    "    i_guess_list = []\n",
    "    for i in range(16):\n",
    "        J, res = algo1_recover_ith_key_byte(p, i)\n",
    "        print(\"Subkey %2d - most likely %02X (actual %02X)\"%(i, res[0], key[i]))\n",
    "        print(\" Top 5 guesses: \")\n",
    "        for j in range(0, 5):\n",
    "            print(\"   %02X - averge power trace: %.3f: \"%(res[j], J[res[j]]))\n",
    "        print(\"\\n\")\n",
    "        i_guess_list += [res[0]]\n",
    "    return i_guess_list"
   ]
  },
  {
   "cell_type": "code",
   "execution_count": null,
   "metadata": {},
   "outputs": [],
   "source": [
    "key_guess = recover_key(plaintext)\n",
    "assert key_guess == key"
   ]
  },
  {
   "cell_type": "markdown",
   "metadata": {},
   "source": [
    "## Attack on ShiftRows"
   ]
  },
  {
   "cell_type": "code",
   "execution_count": null,
   "metadata": {},
   "outputs": [],
   "source": [
    "plaintext = [0x00 for i in range(16)]\n",
    "key = [0x2b, 0x7e, 0x15, 0x16, 0x28, 0xae, 0xd2, 0xa6, 0xab, 0xf7, 0x15, 0x88, 0x09, 0xcf, 0x4f, 0x3c]\n",
    "set_up(key)\n",
    "\n",
    "MAX_cwlite = 24400\n",
    "scope.adc.samples = 9000\n",
    "\n",
    "avg_trace = np.array(encrypt_p_power_repeat_n(plaintext, 1000))\n",
    "\n",
    "plaintext_0_shift = [0x00 for i in range(3)] + [0xFF] + [0x00 for i in range(12)]\n",
    "plaintext_1_shift = [0x00 for i in range(7)] + [0xFF] + [0x00 for i in range(8)]\n",
    "plaintext_2_shift = [0x00 for i in range(11)] + [0xFF] + [0x00 for i in range(4)]\n",
    "plaintext_3_shift = [0x00 for i in range(15)] + [0xFF]\n",
    "\n",
    "avg_trace_0_shift = np.array(encrypt_p_power_repeat_n(plaintext_0_shift, 1000))\n",
    "avg_trace_1_shift = np.array(encrypt_p_power_repeat_n(plaintext_1_shift, 1000))\n",
    "avg_trace_2_shift = np.array(encrypt_p_power_repeat_n(plaintext_2_shift, 1000))\n",
    "avg_trace_3_shift = np.array(encrypt_p_power_repeat_n(plaintext_3_shift, 1000))"
   ]
  },
  {
   "cell_type": "code",
   "execution_count": null,
   "metadata": {},
   "outputs": [],
   "source": [
    "power_trace_diff_1 = np.abs(avg_trace_0_shift - avg_trace) \n",
    "power_trace_diff_2 = np.abs(avg_trace_1_shift - avg_trace) \n",
    "power_trace_diff_3 = np.abs(avg_trace_2_shift - avg_trace) \n",
    "power_trace_diff_4 = np.abs(avg_trace_3_shift - avg_trace) "
   ]
  },
  {
   "cell_type": "code",
   "execution_count": null,
   "metadata": {
    "scrolled": false
   },
   "outputs": [],
   "source": [
    "MC_low_index = 2500\n",
    "MC_high_index = 3200\n",
    "\n",
    "%matplotlib notebook\n",
    "import matplotlib.pylab as plt\n",
    "\n",
    "plt.rcParams[\"figure.figsize\"] = (8,3)\n",
    "\n",
    "plt.figure()\n",
    "plt.plot(power_trace_diff_1[MC_low_index:MC_high_index], label = \"0th row : No shift\") # Observe diff. at MC (between 2500 - 3200)\n",
    "plt.plot(power_trace_diff_2[MC_low_index:MC_high_index], label = \"1st row : 1 shift\")\n",
    "plt.plot(power_trace_diff_3[MC_low_index:MC_high_index], label = \"2nd row : 2 shifts\")\n",
    "plt.plot(power_trace_diff_4[MC_low_index:MC_high_index], label = \"3rd row : 3 shifts\")\n",
    "plt.legend(loc=\"upper left\")\n",
    "plt.show()"
   ]
  },
  {
   "cell_type": "markdown",
   "metadata": {},
   "source": [
    "## Attack on Mix Columns"
   ]
  },
  {
   "cell_type": "markdown",
   "metadata": {},
   "source": [
    "## Algo 2"
   ]
  },
  {
   "cell_type": "code",
   "execution_count": null,
   "metadata": {},
   "outputs": [],
   "source": [
    "def algo2(p, i):\n",
    "    old_offset = scope.adc.offset \n",
    "    old_samples = scope.adc.samples\n",
    "    \n",
    "    # AK(0) : 590 - 1265\n",
    "    #scope.adc.offset = 590 # AK0_low_index = 590\n",
    "    #scope.adc.samples = 1265 - 590 # AK0_high_index = 1265\n",
    "    # SB(1)\n",
    "    scope.adc.offset = 1350\n",
    "    scope.adc.samples = 2263\n",
    "    \n",
    "    L = {255:0, 246:1, 210:2, 126:3, 0:4, -126:5, -210:6, -246:7, -255:8}\n",
    "    e = encrypt_p_power_repeat_n(p, 50) # average trace\n",
    "    h = 0\n",
    "    for t in range(256):\n",
    "        print(t)\n",
    "        p[i] = t\n",
    "        e_p = encrypt_p_power_repeat_n(p, 50)\n",
    "        # Count how many t have a larger/smaller Hamming weight.\n",
    "        #e_p_count = np.count_nonzero(np.array(e_p) - np.array(e) > 0)\n",
    "        #e_count = len(e) - e_p_count\n",
    "        e_count = np.sum(np.abs(np.array(e)))\n",
    "        e_p_count = np.sum(np.abs(np.array(e_p)))\n",
    "        \n",
    "        if e_p_count < e_count:\n",
    "            h = h - 1\n",
    "        elif e_p_count > e_count:\n",
    "            h = h + 1\n",
    "    tmp_min_fct = float('inf')\n",
    "    h_0_best = None\n",
    "    for h_0 in L.keys():\n",
    "        if abs(h - h_0) <= tmp_min_fct:\n",
    "            h_0_best = h_0\n",
    "            tmp_min_fct = abs(h - h_0)\n",
    "            \n",
    "    scope.adc.offset = old_offset\n",
    "    scope.adc.samples = old_samples\n",
    "    \n",
    "    return L[h_0_best]"
   ]
  },
  {
   "cell_type": "code",
   "execution_count": null,
   "metadata": {},
   "outputs": [],
   "source": [
    "algo2(plaintext, 0)"
   ]
  },
  {
   "cell_type": "code",
   "execution_count": null,
   "metadata": {},
   "outputs": [],
   "source": [
    "def find_active_column(avg_trace_shift, avg_trace):\n",
    "    argmax = np.argmax(np.abs(np.array(avg_trace_shift[MC_low_index:MC_high_index]) - np.array(avg_trace[MC_low_index:MC_high_index])))\n",
    "    if argmax >= 0 and argmax <= 190:\n",
    "        return 0\n",
    "    if argmax <= 370:\n",
    "        return 3\n",
    "    if argmax <= 510:\n",
    "        return 2\n",
    "    if argmax <= 700:\n",
    "        return 1"
   ]
  },
  {
   "cell_type": "code",
   "execution_count": null,
   "metadata": {},
   "outputs": [],
   "source": [
    "set_u = 0xFF\n",
    "\n",
    "def find_u_activating_jth_column(plaintext, j):\n",
    "    avg_trace = encrypt_p_power_repeat_n(plaintext, 100)\n",
    "    u_result = []\n",
    "    for i in range(16):\n",
    "        assert plaintext[i] != set_u\n",
    "        tmp = plaintext[i]\n",
    "        plaintext[i] = set_u\n",
    "        avg_trace_shift = encrypt_p_power_repeat_n(plaintext, 100)\n",
    "        if find_active_column(avg_trace_shift, avg_trace) == j:\n",
    "            u_result += [i]\n",
    "        plaintext[i] = tmp\n",
    "    return u_result"
   ]
  },
  {
   "cell_type": "markdown",
   "metadata": {},
   "source": [
    "### Working with custom/random shift rows"
   ]
  },
  {
   "cell_type": "code",
   "execution_count": null,
   "metadata": {},
   "outputs": [],
   "source": [
    "SCOPETYPE = 'OPENADC'\n",
    "PLATFORM='CW308_STM32F4'\n",
    "CRYPTO_TARGET='TINYAES128C'\n",
    "%run \"Setup_Scripts/Setup_Generic.ipynb\"\n",
    "AES_TINY_VERSION='V2'"
   ]
  },
  {
   "cell_type": "code",
   "execution_count": null,
   "metadata": {},
   "outputs": [],
   "source": [
    "%%bash -s \"$PLATFORM\" \"$CRYPTO_TARGET\" \"$AES_TINY_VERSION\"\n",
    "cd hardware/victims/firmware/simpleserial-aes-3\n",
    "make PLATFORM=$1 CRYPTO_TARGET=$2  AES_TINY_VERSION=$3"
   ]
  },
  {
   "cell_type": "code",
   "execution_count": null,
   "metadata": {},
   "outputs": [],
   "source": [
    "cw.program_target(scope, prog, \"hardware/victims/firmware/simpleserial-aes-3/simpleserial-aes-{}.hex\".format(PLATFORM))\n",
    "project = cw.create_project(\"traces/STM32F4_HW_AES_3.cwp\", overwrite=True)"
   ]
  },
  {
   "cell_type": "code",
   "execution_count": null,
   "metadata": {},
   "outputs": [],
   "source": [
    "plaintext = [0x00 for i in range(16)]\n",
    "key = [0x2b, 0x7e, 0x15, 0x16, 0x28, 0xae, 0xd2, 0xa6, 0xab, 0xf7, 0x15, 0x88, 0x09, 0xcf, 0x4f, 0x3c]\n",
    "set_up(key)\n",
    "\n",
    "MAX_cwlite = 24400\n",
    "scope.adc.samples = 10000\n",
    "\n",
    "avg_trace = encrypt_p_power_repeat_n(plaintext, 1000)"
   ]
  },
  {
   "cell_type": "code",
   "execution_count": null,
   "metadata": {
    "scrolled": true
   },
   "outputs": [],
   "source": [
    "%matplotlib notebook\n",
    "import matplotlib.pylab as plt\n",
    "\n",
    "plt.rcParams[\"figure.figsize\"] = (8,3)\n",
    "\n",
    "plt.figure()\n",
    "plt.plot(avg_trace)\n",
    "plt.show()"
   ]
  },
  {
   "cell_type": "markdown",
   "metadata": {},
   "source": [
    "BlockCopy: 20 - 500\n",
    "\n",
    "Round key (AK) : 590 - 1265\n",
    "\n",
    "Sub bytes (SB) : 1390 - 2200\n",
    "\n",
    "Shift rows (PB) : 2200 - 5050\n",
    "\n",
    "Mix Columns (MC) : 5050 - 5800\n",
    "\n",
    "Round key (AK) : 5800 - 6550\n"
   ]
  },
  {
   "cell_type": "code",
   "execution_count": null,
   "metadata": {},
   "outputs": [],
   "source": [
    "plaintext = [0x00 for i in range(16)]\n",
    "key = [0x2b, 0x7e, 0x15, 0x16, 0x28, 0xae, 0xd2, 0xa6, 0xab, 0xf7, 0x15, 0x88, 0x09, 0xcf, 0x4f, 0x3c]\n",
    "set_up(key)\n",
    "\n",
    "MAX_cwlite = 24400\n",
    "scope.adc.samples = 9000\n",
    "\n",
    "avg_trace = np.array(encrypt_p_power_repeat_n(plaintext, 1000))\n",
    "\n",
    "plaintext_0_shift = [0x00 for i in range(3)] + [0xFF] + [0x00 for i in range(12)]\n",
    "plaintext_1_shift = [0x00 for i in range(7)] + [0xFF] + [0x00 for i in range(8)]\n",
    "plaintext_2_shift = [0x00 for i in range(11)] + [0xFF] + [0x00 for i in range(4)]\n",
    "plaintext_3_shift = [0x00 for i in range(15)] + [0xFF]\n",
    "\n",
    "avg_trace_0_shift = np.array(encrypt_p_power_repeat_n(plaintext_0_shift, 1000))\n",
    "avg_trace_1_shift = np.array(encrypt_p_power_repeat_n(plaintext_1_shift, 1000))\n",
    "avg_trace_2_shift = np.array(encrypt_p_power_repeat_n(plaintext_2_shift, 1000))\n",
    "avg_trace_3_shift = np.array(encrypt_p_power_repeat_n(plaintext_3_shift, 1000))"
   ]
  },
  {
   "cell_type": "code",
   "execution_count": null,
   "metadata": {},
   "outputs": [],
   "source": [
    "power_trace_diff_1 = np.abs(avg_trace_0_shift - avg_trace) \n",
    "power_trace_diff_2 = np.abs(avg_trace_1_shift - avg_trace) \n",
    "power_trace_diff_3 = np.abs(avg_trace_2_shift - avg_trace) \n",
    "power_trace_diff_4 = np.abs(avg_trace_3_shift - avg_trace) "
   ]
  },
  {
   "cell_type": "code",
   "execution_count": null,
   "metadata": {},
   "outputs": [],
   "source": [
    "MC_low_index = 5050\n",
    "MC_high_index = 5800\n",
    "\n",
    "%matplotlib notebook\n",
    "import matplotlib.pylab as plt\n",
    "\n",
    "plt.rcParams[\"figure.figsize\"] = (8,3)\n",
    "\n",
    "plt.figure()\n",
    "plt.plot(power_trace_diff_1[MC_low_index:MC_high_index], label = \"0th row : No shift\") # Observe diff. at MC (between 2500 - 3200)\n",
    "plt.plot(power_trace_diff_2[MC_low_index:MC_high_index], label = \"1st row : 1 shift\")\n",
    "plt.plot(power_trace_diff_3[MC_low_index:MC_high_index], label = \"2nd row : 2 shifts\")\n",
    "plt.plot(power_trace_diff_4[MC_low_index:MC_high_index], label = \"3rd row : 3 shifts\")\n",
    "plt.legend(loc=\"upper left\")\n",
    "plt.show()"
   ]
  },
  {
   "cell_type": "code",
   "execution_count": null,
   "metadata": {},
   "outputs": [],
   "source": [
    "def find_active_column(avg_trace_shift, avg_trace):\n",
    "    # argmax = np.argmax(np.abs(np.array(avg_trace_shift[MC_low_index:MC_high_index]) - np.array(avg_trace[MC_low_index:MC_high_index])))\n",
    "    argmax = np.argmax(np.abs(np.array(avg_trace_shift[:]) - np.array(avg_trace[:])))\n",
    "    #print(f\"argmax : {argmax}\")\n",
    "    if argmax >= 0 and argmax <= 220:\n",
    "        return 0\n",
    "    if argmax <= 370:\n",
    "        return 1\n",
    "    if argmax <= 550:\n",
    "        return 2\n",
    "    if argmax <= 720:\n",
    "        return 3\n",
    "    \n",
    "set_u = 0xFF\n",
    "\n",
    "def find_u_activating_jth_column(avg_trace, plaintext, j):\n",
    "    u_result = []\n",
    "    for i in range(16):\n",
    "        assert plaintext[i] != set_u\n",
    "        tmp = plaintext[i]\n",
    "        plaintext[i] = set_u\n",
    "        avg_trace_shift = encrypt_p_power_repeat_n(plaintext, 50)\n",
    "        #print(f\"j : {j}\")\n",
    "        #print(f\"i : {i}\")\n",
    "        if find_active_column(avg_trace_shift, avg_trace) == j:\n",
    "            u_result += [i]\n",
    "        plaintext[i] = tmp\n",
    "    return u_result"
   ]
  },
  {
   "cell_type": "markdown",
   "metadata": {},
   "source": [
    "### Software test"
   ]
  },
  {
   "cell_type": "code",
   "execution_count": null,
   "metadata": {},
   "outputs": [],
   "source": [
    "plain_state = bytes2matrix(plaintext)\n",
    "\n",
    "add_round_key(plain_state, key[0])\n",
    "    \n",
    "\n",
    "sub_bytes(plain_state)\n",
    "print(plain_state)\n",
    "state_to_hamming_weight(plain_state)\n",
    "w_i = []\n",
    "\n",
    "for i in range(4):\n",
    "    for j in range(4):\n",
    "        w_i += [plain_state[i][j]]\n",
    "\n",
    "print(w_i)"
   ]
  },
  {
   "cell_type": "code",
   "execution_count": null,
   "metadata": {},
   "outputs": [],
   "source": [
    "tmp = [0xdb, 0x13, 0x53, 0x45]\n",
    "mix_single_column(tmp)\n",
    "print(tmp)"
   ]
  },
  {
   "cell_type": "code",
   "execution_count": null,
   "metadata": {},
   "outputs": [],
   "source": [
    "# Step 1\n",
    "\n",
    "plaintext = [0x79, 0x00, 0x00, 0x00] + [0x00, 0x02, 0x00, 0x00] + [0x00, 0x00, 0x47, 0x00] + [0x00, 0x00, 0x00, 0x04]\n",
    "plaintext_p = [0x68, 0x00, 0x00, 0x00] + [0x00, 0x02, 0x00, 0x00] + [0x00, 0x00, 0x68, 0x00] + [0x00, 0x00, 0x00, 0x04]\n",
    "\n",
    "key = [0x2b, 0x7e, 0x15, 0x16, 0x28, 0xae, 0xd2, 0xa6, 0xab, 0xf7, 0x15, 0x88, 0x09, 0xcf, 0x4f, 0x3c]\n",
    "key = expand_key(key)\n",
    "\n",
    "plaintext_state = bytes2matrix(plaintext)\n",
    "add_round_key(plaintext_state, key[0]) \n",
    "sub_bytes(plaintext_state)\n",
    "shift_rows(plaintext_state)\n",
    "# mix_columns(plaintext_state) \n",
    "b_PB_1 = matrix2bytes(plaintext_state)\n",
    "\n",
    "plaintext_p_state = bytes2matrix(plaintext_p)\n",
    "add_round_key(plaintext_p_state, key[0]) \n",
    "sub_bytes(plaintext_p_state)\n",
    "shift_rows(plaintext_p_state)\n",
    "#print_state_to_hex_str(plaintext_p_state)\n",
    "#mix_columns(plaintext_p_state)\n",
    "b_PB_1_p = matrix2bytes(plaintext_p_state)\n",
    "\n",
    "\n",
    "# 0. Compute d0, d1, d2, d3\n",
    "d_list = []\n",
    "for i in range(4):\n",
    "    d_list += [(b_PB_1[i] ^ b_PB_1_p[i]) & 0xFF]"
   ]
  },
  {
   "cell_type": "code",
   "execution_count": null,
   "metadata": {
    "scrolled": true
   },
   "outputs": [],
   "source": [
    "# 2\n",
    "tmp = plaintext.copy()\n",
    "for i in range(256):\n",
    "    tmp[0] = i\n",
    "    plaintext_state = bytes2matrix(tmp)\n",
    "    add_round_key(plaintext_state, key[0])  \n",
    "    sub_bytes(plaintext_state)\n",
    "    if plaintext_state[0][0] == 0x00:\n",
    "        print(hex(i))\n",
    "        \n",
    "tmp = plaintext.copy()\n",
    "for i in range(256):\n",
    "    #tmp[4*1 + 1] = i\n",
    "    tmp[4*2 + 2] = i\n",
    "    plaintext_state = bytes2matrix(tmp)\n",
    "    add_round_key(plaintext_state, key[0])  \n",
    "    sub_bytes(plaintext_state)\n",
    "    #if plaintext_state[1][1] == 0x00:\n",
    "    if plaintext_state[2][2] == 0x00:\n",
    "        print(hex(i))\n",
    "\n",
    "# Step 1 : p_u(0) = 0x79\n",
    "# Step 1 : p_u(1) = 0xFC\n",
    "# Step 2 : p_u(0) = 0x79\n",
    "# Step 2 : p_u(1) = 0xFC\n",
    "# Step 3 : p_u(0) = 0x79\n",
    "# Step 3 : p_u(1) = 0xFC\n",
    "# Step 4 : p_u(0) = 0x79\n",
    "# Step 4 : p_u(1) = 0xFC\n",
    "# Step 5 : p_u(0) = 0x79\n",
    "# Step 5 : p_u(1) = 0xFC\n",
    "# Step 6 : p_u(0) = 0x79\n",
    "# Step 6 : p_u(1) = 0xFC\n",
    "# Step 7 : p_u(0) = 0x79\n",
    "# Step 7 : p_u(1) = 0xFC\n",
    "# Step 8 : p_u(0) = 0x79\n",
    "# Step 8 : p_u(1) = 0xFC\n",
    "# Step 9 : p_u(0) = 0x79\n",
    "# Step 9 : p_u(2) = 0x47\n",
    "# Step 10 : p_u(0) = 0x79\n",
    "# Step 10 : p_u(2) = 0x47\n",
    "# Step 11 : p_u(0) = 0x79\n",
    "# Step 11 : p_u(2) = 0x47"
   ]
  },
  {
   "cell_type": "code",
   "execution_count": null,
   "metadata": {},
   "outputs": [],
   "source": [
    "# 3.\n",
    "# Loop of p_u0_p, st H(b_u0_p, SB(1)) = 8\n",
    "tmp = plaintext_p.copy()\n",
    "\n",
    "for i in range(256):\n",
    "    #tmp[0] = i\n",
    "    #tmp[4*1 + 1] = i\n",
    "    tmp[4*2 + 2] = i\n",
    "    \n",
    "    plaintext_state = bytes2matrix(tmp)\n",
    "    add_round_key(plaintext_state, key[0])  \n",
    "    sub_bytes(plaintext_state)\n",
    "    #if HW[plaintext_state[0][0]] == 8:\n",
    "    #if HW[plaintext_state[1][1]] == 8:\n",
    "    if HW[plaintext_state[2][2]] == 8:\n",
    "        print(hex(i))\n",
    "        \n",
    "# Step 1 : p_u_p(0) = 0x56\n",
    "# Step 2 : p_u_p(1) = 0xd3\n",
    "# Step 3 : p_u_p(0) = 0x56\n",
    "# Step 4 : p_u_p(1) = 0xd3\n",
    "# Step 5 : p_u_p(0) = 0x56\n",
    "# Step 6 : p_u_p(1) = 0xd3\n",
    "# Step 7 : p_u_p(0) = 0x56\n",
    "# Step 8 : p_u_p(1) = 0xd3\n",
    "# Step 9 : p_u_p(0) = 0x56\n",
    "# Step 10 : p_u_p(2) = 0x68\n",
    "# Step 11 : p_u_p(0) = 0x56\n",
    "# Step 12 : p_u_p(2) = 0x68"
   ]
  },
  {
   "cell_type": "code",
   "execution_count": null,
   "metadata": {},
   "outputs": [],
   "source": [
    "# 4\n",
    "tmp = plaintext.copy()\n",
    "tmp2 = plaintext_p.copy()\n",
    "    \n",
    "for i in range(256):\n",
    "\n",
    "    #tmp2[4*1 + 1] = i\n",
    "    tmp2[0] = i\n",
    "    #tmp2[4*2 + 2] = i\n",
    "    \n",
    "    #var_bar = tmp[4*1 + 1]\n",
    "    var_bar = tmp[0]\n",
    "    #var_bar = tmp[4*2 + 2]\n",
    "\n",
    "    plaintext_state = bytes2matrix(tmp)\n",
    "    add_round_key(plaintext_state, key[0])  \n",
    "    sub_bytes(plaintext_state)\n",
    "    shift_rows(plaintext_state)\n",
    "    mix_columns(plaintext_state)\n",
    "\n",
    "    plaintext_state_p = bytes2matrix(tmp2)\n",
    "\n",
    "    add_round_key(plaintext_state_p, key[0])\n",
    "    sub_bytes(plaintext_state_p)\n",
    "    shift_rows(plaintext_state_p)\n",
    "    mix_columns(plaintext_state_p)\n",
    "\n",
    "    #if plaintext_state[0][0] == plaintext_state_p[0][0]:\n",
    "    if plaintext_state[0][1] == plaintext_state_p[0][1]:\n",
    "    #if plaintext_state[0][2] == plaintext_state_p[0][2]:\n",
    "    #if plaintext_state[0][3] == plaintext_state_p[0][3]:\n",
    "        if var_bar != i:\n",
    "            print(hex(i))\n",
    "        \n",
    "# Step 1 : p_u_p(1) = 0xcc\n",
    "# Step 2 : p_u_p(0) = 0xd8\n",
    "# Step 3 : p_u_p(1) = 0xaa\n",
    "# Step 4 : p_u_p(0) = 0x1\n",
    "# Step 5 : p_u_p(1) = 0xd3\n",
    "# Step 6 : p_u_p(0) = 0x56\n",
    "# Step 7 : p_u_p(1) = 0xed\n",
    "# Step 8 : p_u_p(0) = 0xc6\n",
    "# Step 9 : p_u_p(2) = 0x3f\n",
    "# Step 10 : p_u_p(0) = 0x2f\n",
    "# Step 11 : p_u_p(2) = 0xf8\n",
    "# Step 11 : p_u_p(0) = 0x68"
   ]
  },
  {
   "cell_type": "code",
   "execution_count": null,
   "metadata": {},
   "outputs": [],
   "source": [
    "# 5\n",
    "\n",
    "tmp = plaintext_p.copy()\n",
    "    \n",
    "plaintext_state = bytes2matrix(tmp)\n",
    "add_round_key(plaintext_state, key[0])  \n",
    "sub_bytes(plaintext_state)\n",
    "#print(hex(plaintext_state[1][1]))\n",
    "#print(HW[plaintext_state[1][1]])\n",
    "print(hex(plaintext_state[0][0]))\n",
    "print(HW[plaintext_state[0][0]])\n",
    "#print(hex(plaintext_state[2][2]))\n",
    "#print(HW[plaintext_state[2][2]])\n",
    "\n",
    "# Step 1 : H(b_u(1)_p) = 4\n",
    "# Step 2 : H(b_u(0)_p) = 3\n",
    "# Step 3 : H(b_u(1)_p) = 5\n",
    "# Step 4 : H(b_u(0)_p) = 5\n",
    "# Step 5 : H(b_u(1)_p) = 8\n",
    "# Step 6 : H(b_u(0)_p) = 8\n",
    "# Step 7 : H(b_u(1)_p) = 3\n",
    "# Step 8 : H(b_u(0)_p) = 4\n",
    "# Step 9 : H(b_u(2)_p) = 5\n",
    "# Step 10 : H(b_u(0)_p) = 5\n",
    "# Step 11 : H(b_u(2)_p) = 4\n",
    "# Step 11 : H(b_u(0)_p) = 3"
   ]
  },
  {
   "cell_type": "code",
   "execution_count": null,
   "metadata": {},
   "outputs": [],
   "source": [
    "print(d_list)\n",
    "# Step _ :[d_0, d_1, d_2, d_3] \n",
    "# Step 1 : [255, 170, 0, 0]\n",
    "# Step 2 : [13, 255, 0, 0]\n",
    "# Step 3 : [255, 242, 0, 0]\n",
    "# Step 4 : [229, 255, 0, 0]\n",
    "# Step 5 : [255, 255, 0, 0]\n",
    "# Step 6 : [255, 255, 0, 0]\n",
    "# Step 7 : [255, 26, 0, 0]\n",
    "# Step 8 : [85, 255, 0, 0]\n",
    "# Step 9 : [255, 0, 229, 0]\n",
    "# Step 10 : [242, 0, 255, 0]\n",
    "# Step 11 : [255, 0, 85, 0]\n",
    "# Step 12 : [26, 0, 255, 0]"
   ]
  },
  {
   "cell_type": "markdown",
   "metadata": {},
   "source": [
    "### Automating everything "
   ]
  },
  {
   "cell_type": "code",
   "execution_count": null,
   "metadata": {},
   "outputs": [],
   "source": [
    "# Step 0\n",
    "def compute_d_i(plaintext, plaintext_p, step):\n",
    "    plaintext_state = bytes2matrix(plaintext)\n",
    "    add_round_key(plaintext_state, key[0])\n",
    "    sub_bytes(plaintext_state)\n",
    "    shift_rows(plaintext_state)\n",
    "    # mix_columns(plaintext_state) \n",
    "    b_PB_1 = matrix2bytes(plaintext_state)\n",
    "\n",
    "    plaintext_p_state = bytes2matrix(plaintext_p)\n",
    "    print(plaintext_p_state[1][1])\n",
    "    add_round_key(plaintext_p_state, key[0]) \n",
    "    print(plaintext_p_state[1][1])\n",
    "    sub_bytes(plaintext_p_state)\n",
    "    print(plaintext_p_state[1][1])\n",
    "    shift_rows(plaintext_p_state)\n",
    "    print(plaintext_p_state[0][1])\n",
    "    #print_state_to_hex_str(plaintext_p_state)\n",
    "    #mix_columns(plaintext_p_state\n",
    "    b_PB_1_p = matrix2bytes(plaintext_p_state)\n",
    "\n",
    "    # 0. Compute d0, d1, d2, d3\n",
    "    d_list = []\n",
    "    for i in range(4):\n",
    "        d_list += [(b_PB_1[i] ^ b_PB_1_p[i]) & 0xFF]\n",
    "        \n",
    "    print(f\"Step {step}: {d_list}\")\n",
    "    return d_list"
   ]
  },
  {
   "cell_type": "code",
   "execution_count": null,
   "metadata": {},
   "outputs": [],
   "source": [
    "# Step 2\n",
    "def set_to_HW_0_in_pt(plaintext, byte_index_0, byte_index_1, step):\n",
    "    tmp = plaintext.copy()\n",
    "    \n",
    "    for i in range(256):\n",
    "        tmp[byte_index_0] = i\n",
    "        plaintext_state = bytes2matrix(tmp)\n",
    "        add_round_key(plaintext_state, key[0])  \n",
    "        sub_bytes(plaintext_state)\n",
    "        if plaintext_state[byte_index_0//4][byte_index_0%4] == 0x00:\n",
    "            print(f\"Step {step}: p_u_{byte_index_0}: {hex(i)}\")\n",
    "            res1 = i\n",
    "            \n",
    "    tmp = plaintext.copy()\n",
    "    for i in range(256):\n",
    "        tmp[byte_index_1] = i\n",
    "        plaintext_state = bytes2matrix(tmp)\n",
    "        add_round_key(plaintext_state, key[0])  \n",
    "        sub_bytes(plaintext_state)\n",
    "        if plaintext_state[byte_index_1//4][byte_index_1%4] == 0x00:\n",
    "            print(f\"Step {step}: p_u_{byte_index_1}: {hex(i)}\")\n",
    "            res2 = i\n",
    "    return res1, res2"
   ]
  },
  {
   "cell_type": "code",
   "execution_count": null,
   "metadata": {},
   "outputs": [],
   "source": [
    "# Step 3\n",
    "# Loop of p_u?_p, st H(b_u0_p, SB(1)) = 8\n",
    "def set_to_HW_8_in_pt_p(plaintext_p, byte_index, step):\n",
    "    tmp = plaintext_p.copy()\n",
    "\n",
    "    for i in range(256):\n",
    "        tmp[byte_index] = i\n",
    "\n",
    "        plaintext_state = bytes2matrix(tmp)\n",
    "        add_round_key(plaintext_state, key[0])  \n",
    "        sub_bytes(plaintext_state)\n",
    "        if HW[plaintext_state[byte_index//4][byte_index%4]] == 8:\n",
    "            print(f\"Step {step}: p_u_{byte_index}_p: {hex(i)}\")\n",
    "            res = i\n",
    "  \n",
    "    return res"
   ]
  },
  {
   "cell_type": "code",
   "execution_count": null,
   "metadata": {},
   "outputs": [],
   "source": [
    "# 4\n",
    "def set_to_delta_MC_0_in_pt_p(plaintext, plaintext_p, byte_index, delta_1_col_index, step):\n",
    "    tmp = plaintext.copy()\n",
    "    tmp2 = plaintext_p.copy()\n",
    "\n",
    "    print(f\"Byte index is {byte_index}\")\n",
    "    print(f\"Col index is {delta_1_col_index}\")\n",
    "    for i in range(256):\n",
    "        tmp2[byte_index] = i\n",
    "\n",
    "        var_bar = tmp[byte_index]\n",
    "\n",
    "        plaintext_state = bytes2matrix(tmp)\n",
    "        add_round_key(plaintext_state, key[0])  \n",
    "        sub_bytes(plaintext_state)\n",
    "        shift_rows(plaintext_state)\n",
    "        mix_columns(plaintext_state)\n",
    "\n",
    "        plaintext_state_p = bytes2matrix(tmp2)\n",
    "\n",
    "        add_round_key(plaintext_state_p, key[0])\n",
    "        sub_bytes(plaintext_state_p)\n",
    "        shift_rows(plaintext_state_p)\n",
    "        mix_columns(plaintext_state_p)\n",
    "\n",
    "        if plaintext_state[0][delta_1_col_index] == plaintext_state_p[0][delta_1_col_index]:\n",
    "            print(\"Sol found\")\n",
    "            if var_bar != i:\n",
    "                print(f\"Step {step}: p_u_{byte_index}_p: {hex(i)}\")\n",
    "                res = i\n",
    "                return res\n",
    "    raise Exception(\"Solution not found\")"
   ]
  },
  {
   "cell_type": "code",
   "execution_count": null,
   "metadata": {},
   "outputs": [],
   "source": [
    "#5\n",
    "def compute_H(plaintext_p, byte_index, step):\n",
    "    tmp = plaintext_p.copy()\n",
    "\n",
    "    plaintext_state = bytes2matrix(tmp)\n",
    "    add_round_key(plaintext_state, key[0])  \n",
    "    sub_bytes(plaintext_state)\n",
    "    \n",
    "    print(f\"Step {step}: H(b_u({byte_index})_p = {HW[plaintext_state[byte_index//4][byte_index%4]]}\")\n",
    "    print(f\"Step {step}: x_({step})_p = {hex(plaintext_state[byte_index//4][byte_index%4])}\")\n",
    "    return HW[plaintext_state[byte_index//4][byte_index%4]], hex(plaintext_state[byte_index//4][byte_index%4])\n"
   ]
  },
  {
   "cell_type": "code",
   "execution_count": null,
   "metadata": {},
   "outputs": [],
   "source": [
    "# Step 1\n",
    "\n",
    "key = [0x2b, 0x7e, 0x15, 0x16, 0x28, 0xae, 0xd2, 0xa6, 0xab, 0xf7, 0x15, 0x88, 0x09, 0xcf, 0x4f, 0x3c]\n",
    "#key = [0x00, 0x01, 0x02, 0x03, 0x04, 0x05, 0x06, 0x07, 0x08, 0x09, 0x0a, 0x0b, 0x0c, 0x0d, 0x0e, 0x0f]\n",
    "key = expand_key(key)\n",
    "\n",
    "u_0 = 0\n",
    "u_1 = 5\n",
    "u_2 = 10\n",
    "index_255 = [u_0, u_1, u_0, u_1, u_0, u_1, u_0, u_1, u_0, u_2]\n",
    "index_x   = [u_1, u_0, u_1, u_0, u_1, u_0, u_1, u_0, u_2, u_0]\n",
    "delta_i   = [0, 0, 1, 1, 2, 2, 3, 3, 0,  0]\n",
    "w_i = []\n",
    "x_i = []\n",
    "\n",
    "for d_0_index, d_1_index, i_index, step in zip(index_255, index_x, delta_i, list(range(len(index_x)))):\n",
    "    plaintext = [0x01, 0x00, 0x00, 0x00] + [0x00, 0x02, 0x00, 0x00] + [0x00, 0x00, 0x03, 0x00] + [0x00, 0x00, 0x00, 0x04]\n",
    "    \n",
    "    plaintext_p = plaintext.copy()\n",
    "    \n",
    "    plaintext[d_0_index], plaintext[d_1_index] = set_to_HW_0_in_pt(plaintext, d_0_index, d_1_index, step)\n",
    "    plaintext_p[d_0_index] = set_to_HW_8_in_pt_p(plaintext_p, d_0_index, step)\n",
    "    plaintext_p[d_1_index] = set_to_delta_MC_0_in_pt_p(plaintext, plaintext_p, d_1_index, i_index, step)\n",
    "    print(plaintext)\n",
    "    print(plaintext_p)\n",
    "    compute_d_i(plaintext, plaintext_p, step)\n",
    "    tmp1, tmp2 = compute_H(plaintext_p, d_1_index, step)\n",
    "    w_i += [tmp1]\n",
    "    x_i += [int(tmp2[2:],16)]\n",
    "\n",
    "print(f\"w_i = {w_i}\")\n",
    "print(f\"x_i = {x_i}\")"
   ]
  },
  {
   "cell_type": "markdown",
   "metadata": {},
   "source": [
    "### Modified shift rows:\n",
    "\n",
    "0 4 8  12 -> 4 8 12 0\n",
    " \n",
    "1 5 9  13    5 9 13 1\n",
    "\n",
    "2 6 10 14    6 10 14 2\n",
    "\n",
    "3 7 11 15    7 11 15 3\n",
    "\n",
    "i.e shift all rows by one"
   ]
  },
  {
   "cell_type": "code",
   "execution_count": null,
   "metadata": {},
   "outputs": [],
   "source": [
    "# Shift rows or Permutation: PB\n",
    "def shift_rows(s):\n",
    "    s[0][0], s[1][0], s[2][0], s[3][0] = s[1][0], s[2][0], s[3][0], s[0][0]\n",
    "    s[0][1], s[1][1], s[2][1], s[3][1] = s[1][1], s[2][1], s[3][1], s[0][1]\n",
    "    s[0][2], s[1][2], s[2][2], s[3][2] = s[1][2], s[2][2], s[3][2], s[0][2]\n",
    "    s[0][3], s[1][3], s[2][3], s[3][3] = s[1][3], s[2][3], s[3][3], s[0][3]"
   ]
  },
  {
   "cell_type": "code",
   "execution_count": null,
   "metadata": {},
   "outputs": [],
   "source": [
    "import galois\n",
    "GF = galois.GF(2**8, irreducible_poly=\"x^8 + x^4 + x^3 + x + 1\")\n",
    "MC_a, MC_b, MC_c, MC_d = 3, 1, 1, 2\n",
    "\n",
    "def mix_single_column(a):\n",
    "    tmp1 = GF([MC_a, MC_b, MC_c, MC_d])\n",
    "    tmp2 = GF(a)\n",
    "    \n",
    "    for i in range(4):\n",
    "        a[i] = int(np.sum(np.roll(tmp1, i) * tmp2))\n",
    "    \n",
    "    \n",
    "def mix_columns(s):\n",
    "    for i in range(4):\n",
    "        mix_single_column(s[i])\n",
    "\n",
    "#for a,b,c,d = 2, 3, 1, 1 must have rijndael mixcolumns\n",
    "#test = [219, 19, 83, 69]\n",
    "#mix_single_column(test) \n",
    "#assert test == [142, 77, 161, 188]"
   ]
  },
  {
   "cell_type": "code",
   "execution_count": null,
   "metadata": {},
   "outputs": [],
   "source": [
    "# Step 1\n",
    "\n",
    "key = [0x2b, 0x7e, 0x15, 0x16, 0x28, 0xae, 0xd2, 0xa6, 0xab, 0xf7, 0x15, 0x88, 0x09, 0xcf, 0x4f, 0x3c]\n",
    "key = expand_key(key)\n",
    "\n",
    "u_0 = 4\n",
    "u_1 = 5\n",
    "u_2 = 6\n",
    "index_255 = [u_0, u_1, u_0, u_1, u_0, u_1, u_0, u_1, u_0, u_2]\n",
    "index_x   = [u_1, u_0, u_1, u_0, u_1, u_0, u_1, u_0, u_2, u_0]\n",
    "delta_i   = [0, 0, 1, 1, 2, 2, 3, 3, 0,  0]\n",
    "w_i = []\n",
    "x_i = []\n",
    "\n",
    "for d_0_index, d_1_index, i_index, step in zip(index_255, index_x, delta_i, list(range(len(index_x)))):\n",
    "    plaintext = [0x01, 0x01, 0x01, 0x01] + [0x02, 0x02, 0x02, 0x02] + [0x03, 0x03, 0x03, 0x03] + [0x04, 0x04, 0x04, 0x04]\n",
    "    plaintext_p = plaintext.copy()\n",
    "    \n",
    "    plaintext[d_0_index], plaintext[d_1_index] = set_to_HW_0_in_pt(plaintext, d_0_index, d_1_index, step)\n",
    "    plaintext_p[d_0_index] = set_to_HW_8_in_pt_p(plaintext_p, d_0_index, step)\n",
    "    plaintext_p[d_1_index] = set_to_delta_MC_0_in_pt_p(plaintext, plaintext_p, d_1_index, i_index, step)\n",
    "    compute_d_i(plaintext, plaintext_p, step)\n",
    "    tmp1, tmp2 = compute_H(plaintext_p, d_1_index, step)\n",
    "    w_i += [tmp1]\n",
    "    x_i += [int(tmp2[2:],16)]\n",
    "\n",
    "print(f\"w_i = {w_i}\")\n",
    "print(f\"x_i = {x_i}\")"
   ]
  },
  {
   "cell_type": "markdown",
   "metadata": {},
   "source": [
    "### Hardware test"
   ]
  },
  {
   "cell_type": "code",
   "execution_count": null,
   "metadata": {},
   "outputs": [],
   "source": [
    "SCOPETYPE = 'OPENADC'\n",
    "PLATFORM='CW308_STM32F4'\n",
    "CRYPTO_TARGET='TINYAES128C'\n",
    "%run \"Setup_Scripts/Setup_Generic.ipynb\"\n",
    "AES_TINY_VERSION='V3'"
   ]
  },
  {
   "cell_type": "code",
   "execution_count": null,
   "metadata": {},
   "outputs": [],
   "source": [
    "%%bash -s \"$PLATFORM\" \"$CRYPTO_TARGET\" \"$AES_TINY_VERSION\"\n",
    "cd hardware/victims/firmware/simpleserial-aes-4\n",
    "make PLATFORM=$1 CRYPTO_TARGET=$2  AES_TINY_VERSION=$3"
   ]
  },
  {
   "cell_type": "code",
   "execution_count": null,
   "metadata": {},
   "outputs": [],
   "source": [
    "cw.program_target(scope, prog, \"hardware/victims/firmware/simpleserial-aes-4/simpleserial-aes-{}.hex\".format(PLATFORM))\n",
    "project = cw.create_project(\"traces/STM32F4_HW_AES_4.cwp\", overwrite=True)"
   ]
  },
  {
   "cell_type": "code",
   "execution_count": null,
   "metadata": {},
   "outputs": [],
   "source": [
    "SCOPETYPE = 'OPENADC'\n",
    "PLATFORM='CW308_STM32F4'\n",
    "CRYPTO_TARGET='TINYAES128C'\n",
    "%run \"Setup_Scripts/Setup_Generic.ipynb\"\n",
    "AES_TINY_VERSION='V2'"
   ]
  },
  {
   "cell_type": "code",
   "execution_count": null,
   "metadata": {},
   "outputs": [],
   "source": [
    "%%bash -s \"$PLATFORM\" \"$CRYPTO_TARGET\" \"$AES_TINY_VERSION\"\n",
    "cd hardware/victims/firmware/simpleserial-aes-3\n",
    "make PLATFORM=$1 CRYPTO_TARGET=$2  AES_TINY_VERSION=$3"
   ]
  },
  {
   "cell_type": "code",
   "execution_count": null,
   "metadata": {},
   "outputs": [],
   "source": [
    "cw.program_target(scope, prog, \"hardware/victims/firmware/simpleserial-aes-3/simpleserial-aes-{}.hex\".format(PLATFORM))\n",
    "project = cw.create_project(\"traces/STM32F4_HW_AES_3.cwp\", overwrite=True)"
   ]
  },
  {
   "cell_type": "code",
   "execution_count": null,
   "metadata": {},
   "outputs": [],
   "source": [
    "def encrypt_p_power(p):\n",
    "    scope.arm()\n",
    "    \n",
    "    target.simpleserial_write('p', bytearray(p))\n",
    "    \n",
    "    \"\"\"\n",
    "    ret = True\n",
    "    while ret == True:\n",
    "        time.sleep(0.01)\n",
    "        ret = scope.capture()\n",
    "        if ret:\n",
    "            print(\"Target timed out!\")\n",
    "    \"\"\"\n",
    "    \n",
    "    time.sleep(0.009)\n",
    "    ret = scope.capture()\n",
    "    \n",
    "    trace_array = scope.get_last_trace()\n",
    "    return trace_array\n",
    "\n",
    "# Encrypt plaintext p n-times and returns average power trace\n",
    "def encrypt_p_power_repeat_n(p, n):\n",
    "    res = np.array(encrypt_p_power(p))\n",
    "    for i in range(n - 1):\n",
    "        tmp = np.array(encrypt_p_power(p))\n",
    "        res += tmp\n",
    "    return (1/n*res).tolist()"
   ]
  },
  {
   "cell_type": "code",
   "execution_count": null,
   "metadata": {},
   "outputs": [],
   "source": [
    "def set_up(key):\n",
    "    target.set_key(bytearray(key))"
   ]
  },
  {
   "cell_type": "code",
   "execution_count": null,
   "metadata": {},
   "outputs": [],
   "source": [
    "def find_active_column(avg_trace_shift, avg_trace):\n",
    "    # argmax = np.argmax(np.abs(np.array(avg_trace_shift[MC_low_index:MC_high_index]) - np.array(avg_trace[MC_low_index:MC_high_index])))\n",
    "    argmax = np.argmax(np.abs(np.array(avg_trace_shift[:]) - np.array(avg_trace[:])))\n",
    "    #print(f\"argmax : {argmax}\")\n",
    "    if argmax >= 0 and argmax <= 220:\n",
    "        return 0\n",
    "    if argmax <= 370:\n",
    "        return 1\n",
    "    if argmax <= 550:\n",
    "        return 2\n",
    "    if argmax <= 720:\n",
    "        return 3\n",
    "    \n",
    "set_u = 0xFF\n",
    "\n",
    "def find_u_activating_jth_column(avg_trace, plaintext, j):\n",
    "    u_result = []\n",
    "    for i in range(16):\n",
    "        assert plaintext[i] != set_u\n",
    "        tmp = plaintext[i]\n",
    "        plaintext[i] = set_u\n",
    "        avg_trace_shift = encrypt_p_power_repeat_n(plaintext, 100)\n",
    "        #print(f\"j : {j}\")\n",
    "        #print(f\"i : {i}\")\n",
    "        if find_active_column(avg_trace_shift, avg_trace) == j:\n",
    "            u_result += [i]\n",
    "        plaintext[i] = tmp\n",
    "    return u_result"
   ]
  },
  {
   "cell_type": "code",
   "execution_count": null,
   "metadata": {},
   "outputs": [],
   "source": [
    "plaintext = [0x00 for i in range(16)]\n",
    "key = [0x2b, 0x7e, 0x15, 0x16, 0x28, 0xae, 0xd2, 0xa6, 0xab, 0xf7, 0x15, 0x88, 0x09, 0xcf, 0x4f, 0x3c]\n",
    "set_up(key)\n",
    "\n",
    "MAX_cwlite = 24400\n",
    "scope.adc.samples = 9000\n",
    "\n",
    "# avg_trace_2 = encrypt_p_power_repeat_n(plaintext, 1000)"
   ]
  },
  {
   "cell_type": "code",
   "execution_count": null,
   "metadata": {},
   "outputs": [],
   "source": [
    "#print(np.argwhere(np.abs(np.array(avg_trace_2[1390:2300]) - np.array(avg_trace[1390:2300])) > 1.0e-02)[0, 0])"
   ]
  },
  {
   "cell_type": "code",
   "execution_count": null,
   "metadata": {
    "scrolled": true
   },
   "outputs": [],
   "source": [
    "%matplotlib notebook\n",
    "import matplotlib.pylab as plt\n",
    "\n",
    "plt.rcParams[\"figure.figsize\"] = (8,3)\n",
    "\n",
    "plt.figure()\n",
    "plt.plot(avg_trace)\n",
    "#plt.plot(insert_0(1350, 2263, avg_trace_2), '-')\n",
    "plt.show()"
   ]
  },
  {
   "cell_type": "markdown",
   "metadata": {},
   "source": [
    "Round key (AK) : 500 - 1345\n",
    "Sub bytes (SB) : 1350 - 2263"
   ]
  },
  {
   "cell_type": "code",
   "execution_count": null,
   "metadata": {},
   "outputs": [],
   "source": [
    "scope.adc.samples = 5800 - 5000 # MC_high_index = 5800\n",
    "scope.adc.offset = 5000 # MC_low_index = 5000\n",
    "\n",
    "key = [0x2b, 0x7e, 0x15, 0x16, 0x28, 0xae, 0xd2, 0xa6, 0xab, 0xf7, 0x15, 0x88, 0x09, 0xcf, 0x4f, 0x3c]\n",
    "set_up(key)\n",
    "\n",
    "\n",
    "plaintext = [0x01, 0x00, 0x00, 0x00] + [0x00, 0x02, 0x00, 0x00] + [0x00, 0x00, 0x03, 0x00] + [0x00, 0x00, 0x00, 0x04]\n",
    "plaintext_p = plaintext.copy()\n",
    "set_u = 0xFF\n",
    "\n",
    "start = time.time_ns()\n",
    "encrypt_p_power_repeat_n(plaintext, 100)\n",
    "end = time.time_ns()\n",
    "\n",
    "print(f\"Time taken estimated for attack: {(end - start)*256/10**9/60} min\")\n",
    "print(f\"Time taken to obtain one stable power trace is : {(end - start)/10**9} sec\")\n",
    "\n",
    "\n",
    "avg_trace = encrypt_p_power_repeat_n(plaintext, 100)\n",
    "avg_trace_p = encrypt_p_power_repeat_n(plaintext_p, 100)\n",
    "\n",
    "for k in range(4):\n",
    "    res= find_u_activating_jth_column(avg_trace, plaintext.copy(), k)\n",
    "    print(f\"u_i activating {k}th column are : {res}\")"
   ]
  },
  {
   "cell_type": "code",
   "execution_count": null,
   "metadata": {},
   "outputs": [],
   "source": [
    "# 1\n",
    "# Find {u0, u1, u2, u3} (ones that activate 0th column)  with plaintext\n",
    "set_u_act_0_col_pt = find_u_activating_jth_column(avg_trace, plaintext.copy(), 0)\n",
    "# Find {u0, u1, u2, u3} (ones that activate 0th column)  with plaintext'\n",
    "set_u_act_0_col_pt_p = find_u_activating_jth_column(avg_trace_p, plaintext_p.copy(), 0)"
   ]
  },
  {
   "cell_type": "code",
   "execution_count": null,
   "metadata": {},
   "outputs": [],
   "source": [
    "print(set_u_act_0_col_pt)\n",
    "print(set_u_act_0_col_pt_p)"
   ]
  },
  {
   "cell_type": "code",
   "execution_count": null,
   "metadata": {},
   "outputs": [],
   "source": [
    "# 1. p_u2 = p_u2', p_u3 = p_u3'\n",
    "assert plaintext[set_u_act_0_col_pt[2]] == plaintext_p[set_u_act_0_col_pt_p[2]]\n",
    "assert plaintext[set_u_act_0_col_pt[3]] == plaintext_p[set_u_act_0_col_pt_p[3]]"
   ]
  },
  {
   "cell_type": "code",
   "execution_count": null,
   "metadata": {},
   "outputs": [],
   "source": [
    "def algo2_modified(p, i, h = 0):\n",
    "    assert h == 0 or h == 255\n",
    "    old_offset = scope.adc.offset\n",
    "    old_samples = scope.adc.samples\n",
    "    print(old_offset)\n",
    "    print(old_samples)\n",
    "    \n",
    "    # SB(1) : 1390 - 2200\n",
    "    scope.adc.offset = 1350\n",
    "    scope.adc.samples = 2263\n",
    "    print(scope.adc.offset)\n",
    "    print(scope.adc.samples)\n",
    "    \n",
    "    res = 0x00\n",
    "    p[i] = 0x00\n",
    "    e = encrypt_p_power_repeat_n(p, 100)\n",
    "    e_count = np.mean(np.abs(e))\n",
    "    for t in range(1, 256):\n",
    "        print(hex(t) + \" \" + hex(res) + \" \" +str(e_count)[:8],end = '\\r')\n",
    "        p[i] = t\n",
    "        e_p = encrypt_p_power_repeat_n(p, 100)\n",
    "        #e_p_count = np.count_nonzero(np.array(e_p) - np.array(e) > 0)\n",
    "        #e_count = np.count_nonzero(np.array(e_p) - np.array(e) < 0)\n",
    "        #e_count = len(e) - e_p_count\n",
    "        #e_count = np.sum(np.abs(np.array(e)))\n",
    "        #e_p_count = np.sum(np.abs(np.array(e_p)))\n",
    "        \n",
    "        e_p_count = np.mean(np.abs(e_p))\n",
    "        e_count = np.mean(np.abs(e))\n",
    "        \n",
    "        \n",
    "        if e_p_count < e_count:\n",
    "            if h == 0:\n",
    "                res = t\n",
    "                e = e_p\n",
    "        elif e_p_count > e_count:\n",
    "            if h == 255:\n",
    "                res = t\n",
    "                e = e_p \n",
    "                \n",
    "    scope.adc.offset = old_offset\n",
    "    scope.adc.samples = old_samples\n",
    "    return res"
   ]
  },
  {
   "cell_type": "code",
   "execution_count": null,
   "metadata": {},
   "outputs": [],
   "source": [
    "# 2.\n",
    "def set_to_HW_0_in_pt(plaintext, byte_index_0, byte_index_1, step):\n",
    "    tmp = plaintext.copy()\n",
    "    res1 = algo2_modified(tmp, byte_index_0, 0)\n",
    "    print(f\"Step {step}: p_u_{byte_index_0}: {hex(res1)}\")\n",
    "            \n",
    "    tmp = plaintext.copy()\n",
    "    res2 = algo2_modified(tmp, byte_index_1, 0)\n",
    "    print(f\"Step {step}: p_u_{byte_index_1}: {hex(res2)}\")\n",
    "        \n",
    "    return res1, res2"
   ]
  },
  {
   "cell_type": "code",
   "execution_count": null,
   "metadata": {},
   "outputs": [],
   "source": [
    "# 3.\n",
    "def set_to_HW_8_in_pt_p(plaintext_p, byte_index, step):\n",
    "    tmp = plaintext_p.copy()\n",
    "    res = algo2_modified(tmp, byte_index, 255)\n",
    "    print(f\"Step {step}: p_u_{byte_index}_p: {hex(res)}\")\n",
    "  \n",
    "    return res"
   ]
  },
  {
   "cell_type": "code",
   "execution_count": null,
   "metadata": {},
   "outputs": [],
   "source": [
    "# 4\n",
    "def set_to_delta_MC_0_in_pt_p(plaintext, plaintext_p, byte_index, delta_1_col_index, step):\n",
    "    tmp = plaintext.copy()\n",
    "    tmp2 = plaintext_p.copy()\n",
    "\n",
    "    scope.adc.offset = 5800 # AK_low_index = 5800\n",
    "    scope.adc.samples = 6550 - 5800 # AK_high_index = 6550\n",
    "    power_trace_AK_1 = np.array(encrypt_p_power_repeat_n(plaintext, 50))[:]\n",
    "    \n",
    "    print(f\"Byte index is {byte_index}\")\n",
    "    print(f\"Col index is {delta_1_col_index}\")\n",
    "    for i in range(256):\n",
    "        tmp2[byte_index] = i\n",
    "\n",
    "        var_bar = tmp[byte_index]\n",
    "\n",
    "        power_trace_AK_1_p = np.array(encrypt_p_power_repeat_n(tmp, 50))[:]\n",
    "\n",
    "        if np.max(np.abs(power_trace_AK_1_p - power_trace_AK_1)) < 0.01:\n",
    "            print(\"Sol found\")\n",
    "            if var_bar != i:\n",
    "                print(f\"Step {step}: p_u_{byte_index}_p: {hex(i)}\")\n",
    "                res = i\n",
    "                return res\n",
    "    raise Exception(\"Solution not found\")"
   ]
  },
  {
   "cell_type": "code",
   "execution_count": null,
   "metadata": {},
   "outputs": [],
   "source": [
    "#5\n",
    "def compute_H(plaintext_p, byte_index, step):\n",
    "    tmp = plaintext_p.copy()\n",
    "\n",
    "    plaintext_state = bytes2matrix(tmp)\n",
    "    add_round_key(plaintext_state, key[0])  \n",
    "    sub_bytes(plaintext_state)\n",
    "    \n",
    "    w1 = algo2(tmp, set_u_act_0_col_pt_p[1]) \n",
    "    \n",
    "    print(f\"  Step {step}: H(b_u({byte_index})_p = {w1}\")\n",
    "    print(f\"= Step {step}: H(b_u({byte_index})_p = {HW[plaintext_state[byte_index//4][byte_index%4]]}\")\n",
    "    print(f\"Step {step}: x_({step})_p = {hex(plaintext_state[byte_index//4][byte_index%4])}\")\n",
    "    return HW[plaintext_state[byte_index//4][byte_index%4]], hex(plaintext_state[byte_index//4][byte_index%4])\n"
   ]
  },
  {
   "cell_type": "code",
   "execution_count": null,
   "metadata": {},
   "outputs": [],
   "source": [
    "key = [0x2b, 0x7e, 0x15, 0x16, 0x28, 0xae, 0xd2, 0xa6, 0xab, 0xf7, 0x15, 0x88, 0x09, 0xcf, 0x4f, 0x3c]\n",
    "set_up(key)\n",
    "plaintext = [0x01, 0x00, 0x00, 0x00] + [0x00, 0x02, 0x00, 0x00] + [0x00, 0x00, 0x03, 0x00] + [0x00, 0x00, 0x00, 0x04]\n",
    "plaintext_p = plaintext.copy()\n",
    "\n",
    "scope.adc.samples = 9000\n",
    "scope.adc.offset = 0\n",
    "\n",
    "u_0 = 0\n",
    "u_1 = 5\n",
    "u_2 = 10\n",
    "index_255 = [u_0, u_1, u_0, u_1, u_0, u_1, u_0, u_1, u_0, u_2]\n",
    "index_x   = [u_1, u_0, u_1, u_0, u_1, u_0, u_1, u_0, u_2, u_0]\n",
    "delta_i   = [0, 0, 1, 1, 2, 2, 3, 3, 0, 0]\n",
    "w_i = []\n",
    "x_i = []\n",
    "\n",
    "save_u0_u1 = False\n",
    "save_u1_u0 = False\n",
    "\n",
    "\n",
    "    \n",
    "for d_0_index, d_1_index, i_index, step in zip(index_255, index_x, delta_i, list(range(len(index_x)))):\n",
    "    print(f\"Filter equ nbr : {step}\")\n",
    "    plaintext = [0x01, 0x00, 0x00, 0x00] + [0x00, 0x02, 0x00, 0x00] + [0x00, 0x00, 0x03, 0x00] + [0x00, 0x00, 0x00, 0x04]\n",
    "    plaintext_p = plaintext.copy()\n",
    "    \n",
    "    if step%2 == 0 and step < 8: \n",
    "        if save_u0_u1 == False:\n",
    "            plaintext[d_0_index], plaintext[d_1_index] = set_to_HW_0_in_pt(plaintext, d_0_index, d_1_index, step)\n",
    "            plaintext_p[d_0_index] = set_to_HW_8_in_pt_p(plaintext_p, d_0_index, step)\n",
    "            tmp_HW_0_d0_u0_u1 = plaintext[d_0_index]\n",
    "            tmp_HW_0_d1_u0_u1 = plaintext[d_1_index]\n",
    "            tmp_HW_8_d0_u0_u1 = plaintext_p[d_0_index]\n",
    "            save_u0_u1 = True\n",
    "        else:\n",
    "            plaintext[d_0_index], plaintext[d_1_index], plaintext_p[d_0_index] = tmp_HW_0_d0_u0_u1, tmp_HW_0_d1_u0_u1, tmp_HW_8_d0_u0_u1 \n",
    "        \n",
    "    elif step%2 == 1 and step < 8:\n",
    "        if save_u1_u0 == False:\n",
    "            plaintext[d_0_index], plaintext[d_1_index] = set_to_HW_0_in_pt(plaintext, d_0_index, d_1_index, step)\n",
    "            plaintext_p[d_0_index] = set_to_HW_8_in_pt_p(plaintext_p, d_0_index, step)\n",
    "            tmp_HW_0_d0_u1_u0 = plaintext[d_0_index]\n",
    "            tmp_HW_0_d1_u1_u0 = plaintext[d_1_index]\n",
    "            tmp_HW_8_d0_u1_u0 = plaintext_p[d_0_index]\n",
    "            save_u1_u0 = True\n",
    "        else:\n",
    "            plaintext[d_0_index], plaintext[d_1_index], plaintext_p[d_0_index] = tmp_HW_0_d0_u1_u0, tmp_HW_0_d1_u1_u0, tmp_HW_8_d0_u1_u0\n",
    "        \n",
    "    else:\n",
    "        plaintext[d_0_index], plaintext[d_1_index] = set_to_HW_0_in_pt(plaintext, d_0_index, d_1_index, step)\n",
    "        plaintext_p[d_0_index] = set_to_HW_8_in_pt_p(plaintext_p, d_0_index, step)\n",
    "        \n",
    "    plaintext_p[d_1_index] = set_to_delta_MC_0_in_pt_p(plaintext, plaintext_p, d_1_index, i_index, step)\n",
    "    print(plaintext)\n",
    "    print(plaintext_p)\n",
    "    compute_d_i(plaintext, plaintext_p, step)\n",
    "    tmp1, tmp2 = compute_H(plaintext_p, d_1_index, step)\n",
    "    w_i += [tmp1]\n",
    "    x_i += [int(tmp2[2:],16)]\n",
    "\n",
    "print(f\"w_i = {w_i}\")\n",
    "print(f\"x_i = {x_i}\")"
   ]
  },
  {
   "cell_type": "code",
   "execution_count": null,
   "metadata": {},
   "outputs": [],
   "source": []
  },
  {
   "cell_type": "code",
   "execution_count": null,
   "metadata": {
    "scrolled": true
   },
   "outputs": [],
   "source": [
    "key = [0x2b, 0x7e, 0x15, 0x16, 0x28, 0xae, 0xd2, 0xa6, 0xab, 0xf7, 0x15, 0x88, 0x09, 0xcf, 0x4f, 0x3c]\n",
    "plaintext = [0x01, 0x00, 0x00, 0x00] + [0x00, 0x02, 0x00, 0x00] + [0x00, 0x00, 0x03, 0x00] + [0x00, 0x00, 0x00, 0x04]\n",
    "\n",
    "response = AES_128_enc(plaintext,  expand_key(key))\n",
    "# print_byte_array_in_hex(response)\n",
    "\n",
    "set_up(key)\n",
    "encrypt_p_power(plaintext)\n",
    "# response = target.simpleserial_read('r', 16)\n",
    "# print_byte_array_in_hex(bytes(response))\n",
    "\n",
    "\n",
    "#scope.adc.offset = 1390 # SB1_low_index = 1390\n",
    "#scope.adc.samples = 2200 - 1390 # SB1_high_index = 2200\n",
    "#scope.adc.offset = 610 # AK0_low_index = 1390\n",
    "#scope.adc.samples = 1265 # AK0_high_index = 2200\n",
    "scope.adc.offset = 1350\n",
    "scope.adc.samples = 2263\n",
    "            \n",
    "key = expand_key(key)\n",
    "\n",
    "tmp = plaintext.copy()\n",
    "for i in range(256):\n",
    "    tmp[0] = i\n",
    "    plaintext_state = bytes2matrix(tmp)\n",
    "    add_round_key(plaintext_state, key[0])  \n",
    "    sub_bytes(plaintext_state)\n",
    "    if plaintext_state[0][0] == 0x00:\n",
    "        print(f\"Res: p_u_0: {hex(i)}\")\n",
    "\n",
    "start = time.time_ns()\n",
    "res = algo2_modified(plaintext, 0, h = 0)\n",
    "end = time.time_ns()\n",
    "print(f\"Time taken: {(end - start)/10**9/60} min\")\n",
    "\n",
    "print(f\"res = {hex(res)}\" + \" \" * 20)\n",
    "\n",
    "\"\"\"\n",
    "plaintext[0] = 0x01\n",
    "plaintext_state = bytes2matrix(plaintext)\n",
    "add_round_key(plaintext_state, key[0])  \n",
    "sub_bytes(plaintext_state)\n",
    "objective = HW[plaintext_state[0][0]]\n",
    "print(f\"HW : {objective}\")\n",
    "\n",
    "e = encrypt_p_power_repeat_n(plaintext, 100)\n",
    "\n",
    "print(f\"mean : {np.mean(np.abs(e))}\")\n",
    "\n",
    "for i in range(120, 256):\n",
    "    plaintext[0] = i\n",
    "    plaintext_state = bytes2matrix(plaintext)\n",
    "    add_round_key(plaintext_state, key[0])  \n",
    "    sub_bytes(plaintext_state)\n",
    "\n",
    "    e_p = encrypt_p_power_repeat_n(plaintext, 100)\n",
    "        \n",
    "    res = np.mean(np.abs(e_p))\n",
    "    res2 = np.mean(np.abs(e))\n",
    "    \n",
    "    print(f\"SB1_0,0 i={hex(i)}: {HW[plaintext_state[0][0]]}, {res}\")\n",
    "    \n",
    "   \n",
    "    if objective >= HW[plaintext_state[0][0]] and res2 >= res:\n",
    "        pass\n",
    "        #print(f\"Correct i = {i}\")\n",
    "        #print(tmp1)\n",
    "        #print(f\"SB1_0,0 i={i}: {HW[plaintext_state[0][0]]}\")\n",
    "    elif objective <= HW[plaintext_state[0][0]] and res2 <= res:\n",
    "        pass\n",
    "        #print(f\"Correct i = {i}\")\n",
    "        #print(tmp1)\n",
    "        #print(f\"SB1_0,0 i={i}: {HW[plaintext_state[0][0]]}\")\n",
    "    else: \n",
    "        print(f\"Wrong i = {i}\")\n",
    "        print(objective)\n",
    "        print(f\"SB1_0,0 i={i}: {HW[plaintext_state[0][0]]}\")\n",
    "        \n",
    "        print(res)\n",
    "        print(res2)\n",
    "        \n",
    "        print(np.mean(np.array(e_p)))\n",
    "        print(np.mean(np.array(e)))\n",
    "        \n",
    "        %matplotlib notebook\n",
    "        import matplotlib.pylab as plt\n",
    "\n",
    "        plt.rcParams[\"figure.figsize\"] = (8,3)\n",
    "\n",
    "        plt.figure()\n",
    "        plt.plot(np.array(e) - np.array(e_p), label = \"e - e_p\")\n",
    "        plt.legend(loc=\"upper left\")\n",
    "        plt.show()\n",
    "        \n",
    "        break\n",
    "\"\"\"\n",
    "None"
   ]
  },
  {
   "cell_type": "markdown",
   "metadata": {},
   "source": [
    "### Attack on S Box"
   ]
  },
  {
   "cell_type": "code",
   "execution_count": null,
   "metadata": {},
   "outputs": [],
   "source": [
    "plaintext = [0x01, 0x00, 0x00, 0x00] + [0x00, 0x02, 0x00, 0x00] + [0x00, 0x00, 0x03, 0x00] + [0x00, 0x00, 0x00, 0x04]\n",
    "plaintext_p = plaintext.copy()\n",
    "key = [0x2b, 0x7e, 0x15, 0x16, 0x28, 0xae, 0xd2, 0xa6, 0xab, 0xf7, 0x15, 0x88, 0x09, 0xcf, 0x4f, 0x3c]\n",
    "key = expand_key(key)\n",
    "\n",
    "import galois\n",
    "GF = galois.GF(2**8, irreducible_poly=\"x^8 + x^4 + x^3 + x + 1\")\n",
    "MC_a, MC_b, MC_c, MC_d = GF([2, 3, 1, 1])\n",
    "\n",
    "M = GF([[MC_a, MC_b, MC_c, MC_d],\n",
    "        [MC_d, MC_a, MC_b, MC_c],\n",
    "        [MC_c, MC_d, MC_a, MC_b],\n",
    "        [MC_b, MC_c, MC_d, MC_a]])\n",
    "\n",
    "M_inv = np.linalg.inv(M)\n",
    "MC_e, MC_f, MC_g, MC_h = M_inv[0, 0], M_inv[0, 1], M_inv[0, 2], M_inv[0, 3]\n",
    "\n",
    "coef_M_inv = [\"e\", \"f\", \"g\", \"h\"]\n",
    "\n",
    "u_index = [0, 5, 10, 15]\n",
    " \n",
    "def find_p_0123_Sboox_0(key):\n",
    "    res = [None, None, None, None]\n",
    "    for i in range(256):\n",
    "        for j in range(4):\n",
    "            if HW[sbox[(i ^ key[0][u_index[j]//4][u_index[j]%4]) % 256]] == 0:\n",
    "                print(f\"p_{u_index[j]} = {hex(i)}\")\n",
    "                res[j] = i\n",
    "    return res\n",
    "    \n",
    "plaintext[u_index[0]], plaintext[u_index[1]], plaintext[u_index[2]], plaintext[u_index[3]] = find_p_0123_Sboox_0(key)\n",
    "\n",
    "def find_d0123_convergence(plaintext, plantext_p):\n",
    "    tmp = plaintext.copy()\n",
    "    tmp2 = plantext_p.copy()\n",
    "    \n",
    "    plaintext_state = bytes2matrix(tmp)\n",
    "    add_round_key(plaintext_state, key[0])  \n",
    "    sub_bytes(plaintext_state)\n",
    "    shift_rows(plaintext_state)\n",
    "    mix_columns(plaintext_state)\n",
    "    \n",
    "    for d_0 in range(1, 256):\n",
    "        tmp2[u_index[0]] = tmp[u_index[0]] ^ d_0 \n",
    "        for d_1 in range(1, 256):\n",
    "            tmp2[u_index[1]] = tmp[u_index[1]] ^ d_1\n",
    "            for d_2 in range(1, 256):\n",
    "                tmp2[u_index[2]] = tmp[u_index[2]] ^ d_2 \n",
    "                for d_3 in range(1, 256):\n",
    "                    tmp2[u_index[3]] = tmp[u_index[3]] ^ d_3 \n",
    "\n",
    "                    plaintext_state_p = bytes2matrix(tmp2)\n",
    "                    add_round_key(plaintext_state_p, key[0])\n",
    "                    sub_bytes(plaintext_state_p)\n",
    "                    shift_rows(plaintext_state_p)\n",
    "                    mix_columns(plaintext_state_p)\n",
    "                        \n",
    "                    nbr_same = 0\n",
    "                    for j in range(4):\n",
    "                        if plaintext_state[0][j] == plaintext_state_p[0][j]:\n",
    "                            nbr_same += 1\n",
    "                    if nbr_same == 3:\n",
    "                        return d_0, d_1, d_2, d_3, j, tmp2\n",
    "\n",
    "\n",
    "d_0, d_1, d_2, d_3, conv_type, plaintext_p = find_d0123_convergence(plaintext, plaintext_p)\n",
    "\n",
    "d_list = [d_0, d_1, d_2, d_3]\n",
    "\n",
    "plaintext_p[0] = plaintext[0] ^ d_0 \n",
    "plaintext_p[1] = plaintext[1] ^ d_1\n",
    "plaintext_p[2] = plaintext[2] ^ d_2 \n",
    "plaintext_p[3] = plaintext[3] ^ d_3 \n",
    "\n",
    "plaintext_state = bytes2matrix(plaintext)\n",
    "add_round_key(plaintext_state, key[0])\n",
    "sub_bytes(plaintext_state)\n",
    "shift_rows(plaintext_state)\n",
    "mix_columns(plaintext_state)\n",
    "print_state_to_hex_str(plaintext_state)\n",
    "print(plaintext_state)\n",
    "\n",
    "plaintext_state = bytes2matrix(plaintext_p)\n",
    "add_round_key(plaintext_state, key[0])\n",
    "sub_bytes(plaintext_state)\n",
    "shift_rows(plaintext_state)\n",
    "mix_columns(plaintext_state)\n",
    "print_state_to_hex_str(plaintext_state)\n",
    "print(plaintext_state)"
   ]
  },
  {
   "cell_type": "code",
   "execution_count": null,
   "metadata": {},
   "outputs": [],
   "source": [
    "def compute_H(plaintext, byte_index):\n",
    "    tmp = plaintext.copy()\n",
    "\n",
    "    plaintext_state = bytes2matrix(tmp)\n",
    "    add_round_key(plaintext_state, key[0])  \n",
    "    sub_bytes(plaintext_state)\n",
    "    \n",
    "    return HW[plaintext_state[byte_index//4][byte_index%4]]\n",
    "\n",
    "w_list = []\n",
    "\n",
    "for i in range(4):\n",
    "    H = compute_H(plaintext_p, u_index[i])\n",
    "    w_list += [H]\n",
    "    print(f\"H(p_u_{u_index[i]},SB_1) : {H}\")"
   ]
  },
  {
   "cell_type": "code",
   "execution_count": null,
   "metadata": {},
   "outputs": [],
   "source": [
    "# 0, 1, 2, 3\n",
    "# e, f, g, h\n",
    "\n",
    "# Column rhs eq. 12\n",
    "# e, h, g ,f\n",
    "# f, e, h, g\n",
    "# g, f, e, h\n",
    "# h, g, f, e\n",
    "\n",
    "# Map : \n",
    "# 0 -> 0\n",
    "# 1 -> 3\n",
    "# 2 -> 2\n",
    "# 3 -> 1\n",
    "\n",
    "def map_M_coeff(x, conv_type):\n",
    "    tmp = (x-conv_type)%4\n",
    "    return tmp**((tmp+1)%2) * ((tmp+2)%4)**(tmp%2)  "
   ]
  },
  {
   "cell_type": "code",
   "execution_count": null,
   "metadata": {},
   "outputs": [],
   "source": [
    "L = []\n",
    "\n",
    "for lambda_ in range(1, 256):\n",
    "    lambda_GF = GF(lambda_)\n",
    "    L_elem = []\n",
    "    for i in range(4):\n",
    "        L_elem += [HW[M_inv[0, map_M_coeff(i, conv_type)]*lambda_GF]]\n",
    "    L += [L_elem]\n",
    "\n",
    "for i in range(len(L)):\n",
    "    if L[i] == w_list:\n",
    "        print(f\"lambda = {i+1}\")\n",
    "        lambda_ = GF(i + 1)"
   ]
  },
  {
   "cell_type": "code",
   "execution_count": null,
   "metadata": {},
   "outputs": [],
   "source": [
    "for i in range(4):\n",
    "    tmp = u_index[i]\n",
    "    print(f\"b_{tmp},SB(1) + b'_{tmp},SB(1) = T(p_{tmp}={plaintext[tmp]} + k_{tmp}={key[0][tmp//4][tmp%4]}) + T(p_{tmp}={plaintext[tmp]} + k_{tmp}={key[0][tmp//4][tmp%4]} + d_{tmp} = {d_list[i]} ) = ({coef_M_inv[map_M_coeff(i, conv_type)]} = {M_inv[0, map_M_coeff(i, conv_type)]}) * (λ = {lambda_})\") \n",
    "      \n",
    "    assert sbox[GF(plaintext[tmp]) + GF(key[0][tmp//4][tmp%4]) + GF(d_list[i])] == GF(M_inv[0, map_M_coeff(i, conv_type)]) * lambda_\n",
    "      "
   ]
  },
  {
   "cell_type": "markdown",
   "metadata": {},
   "source": [
    "### Disconnect board"
   ]
  },
  {
   "cell_type": "code",
   "execution_count": null,
   "metadata": {},
   "outputs": [],
   "source": [
    "scope.dis()\n",
    "target.dis()"
   ]
  }
 ],
 "metadata": {
  "kernelspec": {
   "display_name": "Python 3 (ipykernel)",
   "language": "python",
   "name": "python3"
  },
  "language_info": {
   "codemirror_mode": {
    "name": "ipython",
    "version": 3
   },
   "file_extension": ".py",
   "mimetype": "text/x-python",
   "name": "python",
   "nbconvert_exporter": "python",
   "pygments_lexer": "ipython3",
   "version": "3.10.6 (main, Nov 14 2022, 16:10:14) [GCC 11.3.0]"
  },
  "vscode": {
   "interpreter": {
    "hash": "31f2aee4e71d21fbe5cf8b01ff0e069b9275f58929596ceb00d14d90e3e16cd6"
   }
  }
 },
 "nbformat": 4,
 "nbformat_minor": 2
}
